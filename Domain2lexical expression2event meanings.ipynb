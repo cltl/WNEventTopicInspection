{
 "cells": [
  {
   "cell_type": "code",
   "execution_count": 1,
   "metadata": {
    "collapsed": true
   },
   "outputs": [],
   "source": [
    "from IPython.core.display import display, HTML"
   ]
  },
  {
   "cell_type": "code",
   "execution_count": 2,
   "metadata": {
    "collapsed": true
   },
   "outputs": [],
   "source": [
    "import annotate\n",
    "import utils"
   ]
  },
  {
   "cell_type": "markdown",
   "metadata": {},
   "source": [
    "# TODO\n",
    "* add chosing topics from Piek from other meeting (see highlighted topics in 'NWR-2014-1.pdf' in the same directory as this notebook)"
   ]
  },
  {
   "cell_type": "markdown",
   "metadata": {},
   "source": [
    "## [the chosen topics from the meeting](https://docs.google.com/document/d/14tt72QplXdcRbV3u4m5sTVRtywnj8LpAf61pI1LDHjs/edit?usp=sharing)\n",
    "* I tried to determine which meaning out of the possible meanings are **event meanings**."
   ]
  },
  {
   "cell_type": "code",
   "execution_count": 3,
   "metadata": {
    "collapsed": false
   },
   "outputs": [],
   "source": [
    "domain2lex_expr2ev_meanings = {\n",
    "    'crime' : \n",
    "     {('kill',): {'killing.n.02', 'kill.v.01'}, # kill.v.10?\n",
    "      ('robbery', 'rob') : {'robbery.n.01', 'rob.v.01'},\n",
    "      ('vandalism',) : {'vandalism.n.01'},\n",
    "     },\n",
    "    'employment' :\n",
    "     {('hire',) : {'hire.v.01'},\n",
    "      ('fire',) : {'displace.v.03'}\n",
    "     },\n",
    "    'disasters' :\n",
    "     {('earthquake',) : {'earthquake.n.01'},\n",
    "      ('fire',) : {'fire.n.01'},\n",
    "      ('flood', 'flooding') : {'flood.n.01', 'flood.v.02', 'flood.v.04', 'deluge.v.01'},\n",
    "      ('storm',) : {'storm.n.01', 'storm.v.03'}\n",
    "     },\n",
    "     'business' :\n",
    "     {('profit',) : {'profit.v.02', 'net_income.n.01'},\n",
    "      ('sales',) : {'sale.n.01'},\n",
    "      ('take-over',) : set(),\n",
    "      ('merge', 'merger') : {'amalgamation.n.01', 'unify.v.01'},\n",
    "      ('release',) : {'release.n.01'},\n",
    "     }\n",
    "}"
   ]
  },
  {
   "cell_type": "code",
   "execution_count": 4,
   "metadata": {
    "collapsed": false
   },
   "outputs": [],
   "source": [
    "lex_expr_objs, ev_meaning_objs = utils.load_it(domain2lex_expr2ev_meanings)"
   ]
  },
  {
   "cell_type": "markdown",
   "metadata": {},
   "source": [
    "## Select the meanings that:\n",
    "* belong to the topic\n",
    "* are event meanings"
   ]
  },
  {
   "cell_type": "code",
   "execution_count": 5,
   "metadata": {
    "collapsed": false
   },
   "outputs": [
    {
     "name": "stdout",
     "output_type": "stream",
     "text": [
      "\n",
      "earthquake\n",
      "\n",
      "\n",
      "HYPERNYM Synset('geological_phenomenon.n.01') a natural phenomenon involving the structure or composition of the earth\n",
      "Synset('earthquake.n.01') shaking and vibration at the surface of the earth resulting from underground movement along a fault plane of from volcanic activity\n",
      "[]\n",
      "\n",
      "HYPERNYM Synset('disturbance.n.03') a disorderly outburst or tumult\n",
      "Synset('earthquake.n.02') a disturbance that is extremely disruptive\n",
      "['selling the company caused an earthquake among the employees']\n"
     ]
    }
   ],
   "source": [
    "lemmas = {'earthquake'}\n",
    "annotate.search_for_event_meanings(lemmas)"
   ]
  },
  {
   "cell_type": "markdown",
   "metadata": {
    "collapsed": true
   },
   "source": [
    "## Inspect event meanings"
   ]
  },
  {
   "cell_type": "code",
   "execution_count": 6,
   "metadata": {
    "collapsed": false
   },
   "outputs": [
    {
     "data": {
      "text/html": [
       "<table>\n",
       "<tr><th style=\"text-align: right;\">  </th><th>wn_meanings                                              </th><th>domain    </th><th style=\"text-align: right;\">  variance</th><th>lexical_expressions                                                                                                                  </th></tr>\n",
       "<tr><td style=\"text-align: right;\"> 0</td><td>{'deluge.v.01', 'flood.n.01', 'flood.v.02', 'flood.v.04'}</td><td>disasters </td><td style=\"text-align: right;\">         6</td><td>{'flood', 'inundation', 'deluge', 'swamp', 'inundate', 'alluvion'}                                                                   </td></tr>\n",
       "<tr><td style=\"text-align: right;\"> 1</td><td>{'release.n.01'}                                         </td><td>business  </td><td style=\"text-align: right;\">         1</td><td>{'release'}                                                                                                                          </td></tr>\n",
       "<tr><td style=\"text-align: right;\"> 2</td><td>{'hire.v.01'}                                            </td><td>employment</td><td style=\"text-align: right;\">         3</td><td>{'employ', 'hire', 'engage'}                                                                                                         </td></tr>\n",
       "<tr><td style=\"text-align: right;\"> 3</td><td>{'profit.v.02', 'net_income.n.01'}                       </td><td>business  </td><td style=\"text-align: right;\">         8</td><td>{'turn_a_profit', 'net_profit', 'lucre', 'profits', 'profit', 'net', 'net_income', 'earnings'}                                       </td></tr>\n",
       "<tr><td style=\"text-align: right;\"> 4</td><td>{'vandalism.n.01'}                                       </td><td>crime     </td><td style=\"text-align: right;\">         3</td><td>{'hooliganism', 'vandalism', 'malicious_mischief'}                                                                                   </td></tr>\n",
       "<tr><td style=\"text-align: right;\"> 5</td><td>{'storm.n.01', 'storm.v.03'}                             </td><td>disasters </td><td style=\"text-align: right;\">         2</td><td>{'violent_storm', 'storm'}                                                                                                           </td></tr>\n",
       "<tr><td style=\"text-align: right;\"> 6</td><td>set()                                                    </td><td>business  </td><td style=\"text-align: right;\">         0</td><td>set()                                                                                                                                </td></tr>\n",
       "<tr><td style=\"text-align: right;\"> 7</td><td>{'fire.n.01'}                                            </td><td>disasters </td><td style=\"text-align: right;\">         1</td><td>{'fire'}                                                                                                                             </td></tr>\n",
       "<tr><td style=\"text-align: right;\"> 8</td><td>{'amalgamation.n.01', 'unify.v.01'}                      </td><td>business  </td><td style=\"text-align: right;\">         6</td><td>{'unify', 'uniting', 'merge', 'amalgamation', 'merger', 'unite'}                                                                     </td></tr>\n",
       "<tr><td style=\"text-align: right;\"> 9</td><td>{'robbery.n.01', 'rob.v.01'}                             </td><td>crime     </td><td style=\"text-align: right;\">         2</td><td>{'rob', 'robbery'}                                                                                                                   </td></tr>\n",
       "<tr><td style=\"text-align: right;\">10</td><td>{'killing.n.02', 'kill.v.01'}                            </td><td>crime     </td><td style=\"text-align: right;\">         3</td><td>{'killing', 'putting_to_death', 'kill'}                                                                                              </td></tr>\n",
       "<tr><td style=\"text-align: right;\">11</td><td>{'displace.v.03'}                                        </td><td>employment</td><td style=\"text-align: right;\">        11</td><td>{'can', 'displace', 'sack', 'force_out', 'give_the_sack', 'send_away', 'give_the_axe', 'fire', 'dismiss', 'give_notice', 'terminate'}</td></tr>\n",
       "<tr><td style=\"text-align: right;\">12</td><td>{'sale.n.01'}                                            </td><td>business  </td><td style=\"text-align: right;\">         1</td><td>{'sale'}                                                                                                                             </td></tr>\n",
       "<tr><td style=\"text-align: right;\">13</td><td>{'earthquake.n.01'}                                      </td><td>disasters </td><td style=\"text-align: right;\">         4</td><td>{'temblor', 'earthquake', 'quake', 'seism'}                                                                                          </td></tr>\n",
       "</table>"
      ],
      "text/plain": [
       "<IPython.core.display.HTML object>"
      ]
     },
     "metadata": {},
     "output_type": "display_data"
    }
   ],
   "source": [
    "main_dict = ev_meaning_objs\n",
    "keys = ev_meaning_objs.keys()\n",
    "headers = ['wn_meanings', 'domain',\n",
    "           'variance', 'lexical_expressions']\n",
    "\n",
    "table = utils.show_me(main_dict, keys, headers)\n",
    "display(HTML(table))"
   ]
  },
  {
   "cell_type": "markdown",
   "metadata": {},
   "source": [
    "## Inspect lexical expression"
   ]
  },
  {
   "cell_type": "code",
   "execution_count": 7,
   "metadata": {
    "collapsed": false,
    "scrolled": true
   },
   "outputs": [
    {
     "data": {
      "text/html": [
       "<table>\n",
       "<tr><th style=\"text-align: right;\">  </th><th>lexical_expression  </th><th style=\"text-align: right;\">  event_ambiguity</th><th>event_instance_ids                                                    </th><th>event_instance_defs                                                                                                                                                                                  </th></tr>\n",
       "<tr><td style=\"text-align: right;\"> 0</td><td>flooding            </td><td style=\"text-align: right;\">                1</td><td>{frozenset({'deluge.v.01', 'flood.n.01', 'flood.v.02', 'flood.v.04'})}</td><td>fill quickly beyond capacity; as with a liquid;the rising of a body of water and its overflowing onto normally dry land;cover with liquid, usually water;become filled to overflowing                </td></tr>\n",
       "<tr><td style=\"text-align: right;\"> 1</td><td>flood               </td><td style=\"text-align: right;\">                1</td><td>{frozenset({'deluge.v.01', 'flood.n.01', 'flood.v.02', 'flood.v.04'})}</td><td>fill quickly beyond capacity; as with a liquid;the rising of a body of water and its overflowing onto normally dry land;cover with liquid, usually water;become filled to overflowing                </td></tr>\n",
       "<tr><td style=\"text-align: right;\"> 2</td><td>earthquake          </td><td style=\"text-align: right;\">                1</td><td>{frozenset({'earthquake.n.01'})}                                      </td><td>shaking and vibration at the surface of the earth resulting from underground movement along a fault plane of from volcanic activity                                                                  </td></tr>\n",
       "<tr><td style=\"text-align: right;\"> 3</td><td>hire                </td><td style=\"text-align: right;\">                1</td><td>{frozenset({'hire.v.01'})}                                            </td><td>engage or hire for work                                                                                                                                                                              </td></tr>\n",
       "<tr><td style=\"text-align: right;\"> 4</td><td>vandalism           </td><td style=\"text-align: right;\">                1</td><td>{frozenset({'vandalism.n.01'})}                                       </td><td>willful wanton and malicious destruction of the property of others                                                                                                                                   </td></tr>\n",
       "<tr><td style=\"text-align: right;\"> 5</td><td>profit              </td><td style=\"text-align: right;\">                1</td><td>{frozenset({'profit.v.02', 'net_income.n.01'})}                       </td><td>make a profit; gain money or materially;the excess of revenues over outlays in a given period of time (including depreciation and other non-cash expenses)                                           </td></tr>\n",
       "<tr><td style=\"text-align: right;\"> 6</td><td>storm               </td><td style=\"text-align: right;\">                1</td><td>{frozenset({'storm.n.01', 'storm.v.03'})}                             </td><td>a violent weather condition with winds 64-72 knots (11 on the Beaufort scale) and precipitation and thunder and lightning;rain, hail, or snow hard and be very windy, often with thunder or lightning</td></tr>\n",
       "<tr><td style=\"text-align: right;\"> 7</td><td>robbery             </td><td style=\"text-align: right;\">                1</td><td>{frozenset({'robbery.n.01', 'rob.v.01'})}                             </td><td>take something away by force or without the consent of the owner;larceny by threat of violence                                                                                                       </td></tr>\n",
       "<tr><td style=\"text-align: right;\"> 8</td><td>fire                </td><td style=\"text-align: right;\">                2</td><td>{frozenset({'displace.v.03'}), frozenset({'fire.n.01'})}              </td><td>terminate the employment of; discharge from an office or position AND the event of something burning (often destructive)                                                                             </td></tr>\n",
       "<tr><td style=\"text-align: right;\"> 9</td><td>rob                 </td><td style=\"text-align: right;\">                1</td><td>{frozenset({'robbery.n.01', 'rob.v.01'})}                             </td><td>take something away by force or without the consent of the owner;larceny by threat of violence                                                                                                       </td></tr>\n",
       "<tr><td style=\"text-align: right;\">10</td><td>merge               </td><td style=\"text-align: right;\">                1</td><td>{frozenset({'amalgamation.n.01', 'unify.v.01'})}                      </td><td>the combination of two or more commercial companies;become one                                                                                                                                       </td></tr>\n",
       "<tr><td style=\"text-align: right;\">11</td><td>sales               </td><td style=\"text-align: right;\">                1</td><td>{frozenset({'sale.n.01'})}                                            </td><td>a particular instance of selling                                                                                                                                                                     </td></tr>\n",
       "<tr><td style=\"text-align: right;\">12</td><td>merger              </td><td style=\"text-align: right;\">                1</td><td>{frozenset({'amalgamation.n.01', 'unify.v.01'})}                      </td><td>the combination of two or more commercial companies;become one                                                                                                                                       </td></tr>\n",
       "<tr><td style=\"text-align: right;\">13</td><td>release             </td><td style=\"text-align: right;\">                1</td><td>{frozenset({'release.n.01'})}                                         </td><td>merchandise issued for sale or public showing (especially a record or film)                                                                                                                          </td></tr>\n",
       "<tr><td style=\"text-align: right;\">14</td><td>take-over           </td><td style=\"text-align: right;\">                1</td><td>{frozenset()}                                                         </td><td>                                                                                                                                                                                                     </td></tr>\n",
       "<tr><td style=\"text-align: right;\">15</td><td>kill                </td><td style=\"text-align: right;\">                1</td><td>{frozenset({'killing.n.02', 'kill.v.01'})}                            </td><td>the act of terminating a life;cause to die; put to death, usually intentionally or knowingly                                                                                                         </td></tr>\n",
       "</table>"
      ],
      "text/plain": [
       "<IPython.core.display.HTML object>"
      ]
     },
     "metadata": {},
     "output_type": "display_data"
    }
   ],
   "source": [
    "main_dict = lex_expr_objs\n",
    "keys = lex_expr_objs.keys()\n",
    "headers = ['lexical_expression', 'event_ambiguity', \n",
    "           'event_instance_ids', 'event_instance_defs']\n",
    "\n",
    "table = utils.show_me(main_dict, keys, headers)\n",
    "display(HTML(table))"
   ]
  }
 ],
 "metadata": {
  "anaconda-cloud": {},
  "kernelspec": {
   "display_name": "Python [conda root]",
   "language": "python",
   "name": "conda-root-py"
  },
  "language_info": {
   "codemirror_mode": {
    "name": "ipython",
    "version": 3
   },
   "file_extension": ".py",
   "mimetype": "text/x-python",
   "name": "python",
   "nbconvert_exporter": "python",
   "pygments_lexer": "ipython3",
   "version": "3.5.2"
  }
 },
 "nbformat": 4,
 "nbformat_minor": 1
}
