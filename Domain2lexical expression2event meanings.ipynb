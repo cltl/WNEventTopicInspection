{
 "cells": [
  {
   "cell_type": "code",
   "execution_count": 1,
   "metadata": {
    "collapsed": true
   },
   "outputs": [],
   "source": [
    "from IPython.core.display import display, HTML"
   ]
  },
  {
   "cell_type": "code",
   "execution_count": 2,
   "metadata": {
    "collapsed": false
   },
   "outputs": [],
   "source": [
    "import annotate\n",
    "import utils"
   ]
  },
  {
   "cell_type": "markdown",
   "metadata": {},
   "source": [
    "# TODO\n",
    "* disjuncte en non-disjunct hyponyms\n",
    "* define why we cluster together certain meanings (same referent)\n",
    "* look into cross-pos research (probably underfocused)"
   ]
  },
  {
   "cell_type": "markdown",
   "metadata": {},
   "source": [
    "\n",
    "## Resource event meanings analysis\n",
    "* I tried to determine which meanings out of the possible meanings are **event meanings**."
   ]
  },
  {
   "cell_type": "code",
   "execution_count": 3,
   "metadata": {
    "collapsed": false
   },
   "outputs": [],
   "source": [
    "domain2lex_expr_and_ev_meanings2ecb_topics = {\n",
    "    'crime' : \n",
    "     {( ('escape',), frozenset({'escape.v.01', 'running_away.n.01'})) : {3},\n",
    "      ( ('shoot', 'shooting'), frozenset({'shooting.n.02', 'shoot.v.02'})) : {18},\n",
    "      ( ('kill',), frozenset({'killing.n.02', 'kill.v.01'})) : (22, 45), # kill.v.10?\n",
    "      ( ('assassination', 'assassinate'), frozenset({'murder.n.01', 'assassinate.v.01'}) ) : {16, 32},\n",
    "      ( ('robbery', 'rob'), frozenset({'robbery.n.01', 'rob.v.01'})): set(),\n",
    "      ( ('vandalism',), frozenset({'vandalism.n.01'})) : set(),\n",
    "      ( ('attack',), frozenset({'attack.n.01'})) : {12},\n",
    "      ( ('riot',), frozenset({'riot.n.01', 'riot.v.01'})) : {19},\n",
    "      ( ('steal', 'theft'), frozenset({'steal.v.01', 'larceny.n.01'})) : {24},\n",
    "      ( ('bomb', 'bombing'), frozenset({'bombard.v.02', 'bombing.n.01', 'bombing.n.02'})) : {41},\n",
    "     },\n",
    "    'life' :\n",
    "     { ( ('die', 'death'), frozenset({'die.v.01', 'death.n.01'})): {23, 26, 28},\n",
    "     },\n",
    "    'employment' :\n",
    "     {( ('hire',), frozenset({'hire.v.01'})) : set(),\n",
    "      ( ('fire',), frozenset({'displace.v.03'})) : {5}\n",
    "     },\n",
    "    'disasters' :\n",
    "     {( ('earthquake',), frozenset({'earthquake.n.01'})) : {20, 37, 38},\n",
    "      ( ('fire',), frozenset({'fire.n.01'})) : {13, 14},\n",
    "      ( ('flood', 'flooding'), frozenset({'flood.n.01', 'flood.v.02', 'flood.v.04', 'deluge.v.01'})) : set(),\n",
    "      ( ('storm',), frozenset({'storm.n.01', 'storm.v.03'})) : set(),\n",
    "      ( ('explosion',), frozenset({'explosion.n.02'})) : {8},\n",
    "     },\n",
    "     'business' :\n",
    "     {( ('profit',), frozenset({'profit.v.02', 'net_income.n.01'})) : set(),\n",
    "      ( ('sales',), frozenset({'sale.n.01'})) : set(),\n",
    "      ( ('takeover',), frozenset({'buyout.n.01'})) : set(),\n",
    "      ( ('merge', 'merger'), frozenset({'amalgamation.n.01', 'unify.v.01'})) : set(),\n",
    "      ( ('release',), frozenset({'release.n.01'})) : set(),\n",
    "     },\n",
    "}"
   ]
  },
  {
   "cell_type": "code",
   "execution_count": 4,
   "metadata": {
    "collapsed": false
   },
   "outputs": [],
   "source": [
    "lex_expr_objs, ev_meaning_objs = utils.load_it(domain2lex_expr_and_ev_meanings2ecb_topics)"
   ]
  },
  {
   "cell_type": "markdown",
   "metadata": {},
   "source": [
    "## Select the meanings that:\n",
    "* belong to the topic\n",
    "* are event meanings"
   ]
  },
  {
   "cell_type": "code",
   "execution_count": 5,
   "metadata": {
    "collapsed": false,
    "scrolled": true
   },
   "outputs": [
    {
     "name": "stdout",
     "output_type": "stream",
     "text": [
      "\n",
      "bombing\n",
      "\n",
      "\n",
      "HYPERNYM Synset('attack.n.01') (military) an offensive against an enemy (using weapons)\n",
      "Synset('bombing.n.01') an attack by dropping bombs\n",
      "[]\n",
      "\n",
      "HYPERNYM Synset('sabotage.n.01') a deliberate act of destruction or disruption in which equipment is damaged\n",
      "Synset('bombing.n.02') the use of bombs for sabotage; a tactic frequently used by terrorists\n",
      "[]\n",
      "\n",
      "HYPERNYM Synset('attack.v.01') launch an attack or assault on; begin hostilities or start warfare with\n",
      "Synset('bombard.v.02') throw bombs at or attack with bombs\n",
      "['The Americans bombed Dresden']\n",
      "\n",
      "Synset('fail.v.07') fail to get a passing grade\n",
      "['She studied hard but failed nevertheless', 'Did I fail the test?']\n"
     ]
    }
   ],
   "source": [
    "lemmas = {'bombing'}\n",
    "annotate.search_for_event_meanings(lemmas)"
   ]
  },
  {
   "cell_type": "markdown",
   "metadata": {
    "collapsed": true
   },
   "source": [
    "## Inspect event meanings"
   ]
  },
  {
   "cell_type": "code",
   "execution_count": 6,
   "metadata": {
    "collapsed": false
   },
   "outputs": [
    {
     "name": "stdout",
     "output_type": "stream",
     "text": [
      "number of rows: 23\n",
      "variance: min(1), avg(4.39), max(20)\n"
     ]
    },
    {
     "data": {
      "text/html": [
       "<table>\n",
       "<tr><th style=\"text-align: right;\">  </th><th>ev_meaning_id                                                       </th><th>domain    </th><th style=\"text-align: right;\">  variance</th><th>ecb_topics  </th><th>lexical_expressions                                                                                                                                                                                                                      </th><th>wn_synsets                                                                                                                                                                           </th></tr>\n",
       "<tr><td style=\"text-align: right;\"> 0</td><td>frozenset({'attack.n.01'})                                          </td><td>crime     </td><td style=\"text-align: right;\">         4</td><td>{12}        </td><td>{'attack', 'onslaught', 'onrush', 'onset'}                                                                                                                                                                                               </td><td>{(Synset('attack.n.01'), 'ili-30-00972621-n')}                                                                                                                                       </td></tr>\n",
       "<tr><td style=\"text-align: right;\"> 1</td><td>frozenset({'shooting.n.02', 'shoot.v.02'})                          </td><td>crime     </td><td style=\"text-align: right;\">         3</td><td>{18}        </td><td>{'shooting', 'shoot', 'pip'}                                                                                                                                                                                                             </td><td>{(Synset('shooting.n.02'), 'ili-30-00225150-n'), (Synset('shoot.v.02'), 'ili-30-02484570-v')}                                                                                        </td></tr>\n",
       "<tr><td style=\"text-align: right;\"> 2</td><td>frozenset({'earthquake.n.01'})                                      </td><td>disasters </td><td style=\"text-align: right;\">         4</td><td>{20, 37, 38}</td><td>{'earthquake', 'temblor', 'seism', 'quake'}                                                                                                                                                                                              </td><td>{(Synset('earthquake.n.01'), 'ili-30-07428954-n')}                                                                                                                                   </td></tr>\n",
       "<tr><td style=\"text-align: right;\"> 3</td><td>frozenset({'steal.v.01', 'larceny.n.01'})                           </td><td>crime     </td><td style=\"text-align: right;\">         6</td><td>{24}        </td><td>{'thieving', 'stealing', 'larceny', 'steal', 'theft', 'thievery'}                                                                                                                                                                        </td><td>{(Synset('larceny.n.01'), 'ili-30-00780889-n'), (Synset('steal.v.01'), 'ili-30-02321757-v')}                                                                                         </td></tr>\n",
       "<tr><td style=\"text-align: right;\"> 4</td><td>frozenset({'storm.n.01', 'storm.v.03'})                             </td><td>disasters </td><td style=\"text-align: right;\">         2</td><td>set()       </td><td>{'storm', 'violent_storm'}                                                                                                                                                                                                               </td><td>{(Synset('storm.n.01'), 'ili-30-11462526-n'), (Synset('storm.v.03'), 'ili-30-02770170-v')}                                                                                           </td></tr>\n",
       "<tr><td style=\"text-align: right;\"> 5</td><td>frozenset({'escape.v.01', 'running_away.n.01'})                     </td><td>crime     </td><td style=\"text-align: right;\">         4</td><td>{3}         </td><td>{'running_away', 'get_away', 'escape', 'break_loose'}                                                                                                                                                                                    </td><td>{(Synset('escape.v.01'), 'ili-30-02074677-v'), (Synset('running_away.n.01'), 'ili-30-00046177-n')}                                                                                   </td></tr>\n",
       "<tr><td style=\"text-align: right;\"> 6</td><td>frozenset({'release.n.01'})                                         </td><td>business  </td><td style=\"text-align: right;\">         1</td><td>set()       </td><td>{'release'}                                                                                                                                                                                                                              </td><td>{(Synset('release.n.01'), 'ili-30-04073208-n')}                                                                                                                                      </td></tr>\n",
       "<tr><td style=\"text-align: right;\"> 7</td><td>frozenset({'vandalism.n.01'})                                       </td><td>crime     </td><td style=\"text-align: right;\">         3</td><td>set()       </td><td>{'hooliganism', 'malicious_mischief', 'vandalism'}                                                                                                                                                                                       </td><td>{(Synset('vandalism.n.01'), 'ili-30-01249816-n')}                                                                                                                                    </td></tr>\n",
       "<tr><td style=\"text-align: right;\"> 8</td><td>frozenset({'unify.v.01', 'amalgamation.n.01'})                      </td><td>business  </td><td style=\"text-align: right;\">         6</td><td>set()       </td><td>{'amalgamation', 'merger', 'unify', 'unite', 'merge', 'uniting'}                                                                                                                                                                         </td><td>{(Synset('unify.v.01'), 'ili-30-00367685-v'), (Synset('amalgamation.n.01'), 'ili-30-01238424-n')}                                                                                    </td></tr>\n",
       "<tr><td style=\"text-align: right;\"> 9</td><td>frozenset({'explosion.n.02'})                                       </td><td>disasters </td><td style=\"text-align: right;\">         2</td><td>{8}         </td><td>{'burst', 'explosion'}                                                                                                                                                                                                                   </td><td>{(Synset('explosion.n.02'), 'ili-30-00377364-n')}                                                                                                                                    </td></tr>\n",
       "<tr><td style=\"text-align: right;\">10</td><td>frozenset({'profit.v.02', 'net_income.n.01'})                       </td><td>business  </td><td style=\"text-align: right;\">         8</td><td>set()       </td><td>{'net_profit', 'profit', 'net_income', 'earnings', 'profits', 'lucre', 'net', 'turn_a_profit'}                                                                                                                                           </td><td>{(Synset('net_income.n.01'), 'ili-30-13258362-n'), (Synset('profit.v.02'), 'ili-30-02278830-v')}                                                                                     </td></tr>\n",
       "<tr><td style=\"text-align: right;\">11</td><td>frozenset({'killing.n.02', 'kill.v.01'})                            </td><td>crime     </td><td style=\"text-align: right;\">         3</td><td>(22, 45)    </td><td>{'killing', 'kill', 'putting_to_death'}                                                                                                                                                                                                  </td><td>{(Synset('killing.n.02'), 'ili-30-00219012-n'), (Synset('kill.v.01'), 'ili-30-01323958-v')}                                                                                          </td></tr>\n",
       "<tr><td style=\"text-align: right;\">12</td><td>frozenset({'death.n.01', 'die.v.01'})                               </td><td>life      </td><td style=\"text-align: right;\">        20</td><td>{26, 28, 23}</td><td>{'conk', 'pop_off', 'drop_dead', 'pass_away', 'choke', 'expiry', 'expire', 'exit', 'kick_the_bucket', \"cash_in_one's_chips\", 'croak', 'perish', 'pass', 'death', 'buy_the_farm', 'decease', 'give-up_the_ghost', 'die', 'snuff_it', 'go'}</td><td>{(Synset('die.v.01'), 'ili-30-00358431-v'), (Synset('death.n.01'), 'ili-30-07355491-n')}                                                                                             </td></tr>\n",
       "<tr><td style=\"text-align: right;\">13</td><td>frozenset({'hire.v.01'})                                            </td><td>employment</td><td style=\"text-align: right;\">         3</td><td>set()       </td><td>{'employ', 'engage', 'hire'}                                                                                                                                                                                                             </td><td>{(Synset('hire.v.01'), 'ili-30-02409412-v')}                                                                                                                                         </td></tr>\n",
       "<tr><td style=\"text-align: right;\">14</td><td>frozenset({'robbery.n.01', 'rob.v.01'})                             </td><td>crime     </td><td style=\"text-align: right;\">         2</td><td>set()       </td><td>{'robbery', 'rob'}                                                                                                                                                                                                                       </td><td>{(Synset('robbery.n.01'), 'ili-30-00781685-n'), (Synset('rob.v.01'), 'ili-30-02321391-v')}                                                                                           </td></tr>\n",
       "<tr><td style=\"text-align: right;\">15</td><td>frozenset({'displace.v.03'})                                        </td><td>employment</td><td style=\"text-align: right;\">        11</td><td>{5}         </td><td>{'give_notice', 'displace', 'terminate', 'fire', 'sack', 'force_out', 'send_away', 'dismiss', 'give_the_sack', 'can', 'give_the_axe'}                                                                                                    </td><td>{(Synset('displace.v.03'), 'ili-30-02402825-v')}                                                                                                                                     </td></tr>\n",
       "<tr><td style=\"text-align: right;\">16</td><td>frozenset({'buyout.n.01'})                                          </td><td>business  </td><td style=\"text-align: right;\">         1</td><td>set()       </td><td>{'buyout'}                                                                                                                                                                                                                               </td><td>{(Synset('buyout.n.01'), 'ili-30-00789534-n')}                                                                                                                                       </td></tr>\n",
       "<tr><td style=\"text-align: right;\">17</td><td>frozenset({'riot.n.01', 'riot.v.01'})                               </td><td>crime     </td><td style=\"text-align: right;\">         2</td><td>{19}        </td><td>{'public_violence', 'riot'}                                                                                                                                                                                                              </td><td>{(Synset('riot.n.01'), 'ili-30-01170502-n'), (Synset('riot.v.01'), 'ili-30-02584661-v')}                                                                                             </td></tr>\n",
       "<tr><td style=\"text-align: right;\">18</td><td>frozenset({'fire.n.01'})                                            </td><td>disasters </td><td style=\"text-align: right;\">         1</td><td>{13, 14}    </td><td>{'fire'}                                                                                                                                                                                                                                 </td><td>{(Synset('fire.n.01'), 'ili-30-07302836-n')}                                                                                                                                         </td></tr>\n",
       "<tr><td style=\"text-align: right;\">19</td><td>frozenset({'bombing.n.02', 'bombard.v.02', 'bombing.n.01'})         </td><td>crime     </td><td style=\"text-align: right;\">         4</td><td>{41}        </td><td>{'bombardment', 'bomb', 'bombard', 'bombing'}                                                                                                                                                                                            </td><td>{(Synset('bombard.v.02'), 'ili-30-01131902-v'), (Synset('bombing.n.01'), 'ili-30-00978413-n'), (Synset('bombing.n.02'), 'ili-30-00979742-n')}                                        </td></tr>\n",
       "<tr><td style=\"text-align: right;\">20</td><td>frozenset({'sale.n.01'})                                            </td><td>business  </td><td style=\"text-align: right;\">         1</td><td>set()       </td><td>{'sale'}                                                                                                                                                                                                                                 </td><td>{(Synset('sale.n.01'), 'ili-30-01114824-n')}                                                                                                                                         </td></tr>\n",
       "<tr><td style=\"text-align: right;\">21</td><td>frozenset({'assassinate.v.01', 'murder.n.01'})                      </td><td>crime     </td><td style=\"text-align: right;\">         4</td><td>{32, 16}    </td><td>{'execution', 'assassinate', 'murder', 'slaying'}                                                                                                                                                                                        </td><td>{(Synset('assassinate.v.01'), 'ili-30-02483000-v'), (Synset('murder.n.01'), 'ili-30-00220522-n')}                                                                                    </td></tr>\n",
       "<tr><td style=\"text-align: right;\">22</td><td>frozenset({'deluge.v.01', 'flood.n.01', 'flood.v.04', 'flood.v.02'})</td><td>disasters </td><td style=\"text-align: right;\">         6</td><td>set()       </td><td>{'inundate', 'swamp', 'inundation', 'flood', 'alluvion', 'deluge'}                                                                                                                                                                       </td><td>{(Synset('flood.v.02'), 'ili-30-00217152-v'), (Synset('flood.n.01'), 'ili-30-11454591-n'), (Synset('flood.v.04'), 'ili-30-00452220-v'), (Synset('deluge.v.01'), 'ili-30-01524523-v')}</td></tr>\n",
       "</table>"
      ],
      "text/plain": [
       "<IPython.core.display.HTML object>"
      ]
     },
     "metadata": {},
     "output_type": "display_data"
    }
   ],
   "source": [
    "main_dict = ev_meaning_objs\n",
    "keys = ev_meaning_objs.keys()\n",
    "headers = ['ev_meaning_id', \n",
    "           'domain',\n",
    "           'variance',\n",
    "           'ecb_topics',\n",
    "           'lexical_expressions',\n",
    "           'wn_synsets',\n",
    "           # 'hyponyms',\n",
    "           ]\n",
    "\n",
    "table = utils.show_me(main_dict, keys, headers, meta={'variance'})\n",
    "display(HTML(table))"
   ]
  },
  {
   "cell_type": "markdown",
   "metadata": {},
   "source": [
    "## Inspect lexical expression"
   ]
  },
  {
   "cell_type": "code",
   "execution_count": 7,
   "metadata": {
    "collapsed": false,
    "scrolled": false
   },
   "outputs": [
    {
     "name": "stdout",
     "output_type": "stream",
     "text": [
      "number of rows: 30\n",
      "wn_ambiguity: min(1), avg(7.9), max(22)\n",
      "event_ambiguity: min(1), avg(1.03), max(2)\n"
     ]
    },
    {
     "data": {
      "text/html": [
       "<table>\n",
       "<tr><th style=\"text-align: right;\">  </th><th>lexical_expression  </th><th>ecb_topics  </th><th style=\"text-align: right;\">  wn_ambiguity</th><th style=\"text-align: right;\">  event_ambiguity</th><th>event_instance_ids                                                    </th><th>event_instance_defs                                                                                                                                                                                  </th></tr>\n",
       "<tr><td style=\"text-align: right;\"> 0</td><td>flooding            </td><td>set()       </td><td style=\"text-align: right;\">             5</td><td style=\"text-align: right;\">                1</td><td>{frozenset({'deluge.v.01', 'flood.n.01', 'flood.v.04', 'flood.v.02'})}</td><td>cover with liquid, usually water;the rising of a body of water and its overflowing onto normally dry land;become filled to overflowing;fill quickly beyond capacity; as with a liquid                </td></tr>\n",
       "<tr><td style=\"text-align: right;\"> 1</td><td>rob                 </td><td>set()       </td><td style=\"text-align: right;\">             2</td><td style=\"text-align: right;\">                1</td><td>{frozenset({'robbery.n.01', 'rob.v.01'})}                             </td><td>larceny by threat of violence;take something away by force or without the consent of the owner                                                                                                       </td></tr>\n",
       "<tr><td style=\"text-align: right;\"> 2</td><td>escape              </td><td>{3}         </td><td style=\"text-align: right;\">            15</td><td style=\"text-align: right;\">                1</td><td>{frozenset({'escape.v.01', 'running_away.n.01'})}                     </td><td>run away from confinement;the act of leaving (without permission) the place you are expected to be                                                                                                   </td></tr>\n",
       "<tr><td style=\"text-align: right;\"> 3</td><td>hire                </td><td>set()       </td><td style=\"text-align: right;\">             5</td><td style=\"text-align: right;\">                1</td><td>{frozenset({'hire.v.01'})}                                            </td><td>engage or hire for work                                                                                                                                                                              </td></tr>\n",
       "<tr><td style=\"text-align: right;\"> 4</td><td>kill                </td><td>{45, 22}    </td><td style=\"text-align: right;\">            17</td><td style=\"text-align: right;\">                1</td><td>{frozenset({'killing.n.02', 'kill.v.01'})}                            </td><td>the act of terminating a life;cause to die; put to death, usually intentionally or knowingly                                                                                                         </td></tr>\n",
       "<tr><td style=\"text-align: right;\"> 5</td><td>bomb                </td><td>{41}        </td><td style=\"text-align: right;\">             5</td><td style=\"text-align: right;\">                1</td><td>{frozenset({'bombing.n.02', 'bombard.v.02', 'bombing.n.01'})}         </td><td>throw bombs at or attack with bombs;an attack by dropping bombs;the use of bombs for sabotage; a tactic frequently used by terrorists                                                                </td></tr>\n",
       "<tr><td style=\"text-align: right;\"> 6</td><td>riot                </td><td>{19}        </td><td style=\"text-align: right;\">             6</td><td style=\"text-align: right;\">                1</td><td>{frozenset({'riot.n.01', 'riot.v.01'})}                               </td><td>a public act of violence by an unruly mob;take part in a riot; disturb the public peace by engaging in a riot                                                                                        </td></tr>\n",
       "<tr><td style=\"text-align: right;\"> 7</td><td>robbery             </td><td>set()       </td><td style=\"text-align: right;\">             2</td><td style=\"text-align: right;\">                1</td><td>{frozenset({'robbery.n.01', 'rob.v.01'})}                             </td><td>larceny by threat of violence;take something away by force or without the consent of the owner                                                                                                       </td></tr>\n",
       "<tr><td style=\"text-align: right;\"> 8</td><td>steal               </td><td>{24}        </td><td style=\"text-align: right;\">             5</td><td style=\"text-align: right;\">                1</td><td>{frozenset({'steal.v.01', 'larceny.n.01'})}                           </td><td>the act of taking something from someone unlawfully;take without the owner's consent                                                                                                                 </td></tr>\n",
       "<tr><td style=\"text-align: right;\"> 9</td><td>flood               </td><td>set()       </td><td style=\"text-align: right;\">            10</td><td style=\"text-align: right;\">                1</td><td>{frozenset({'deluge.v.01', 'flood.n.01', 'flood.v.04', 'flood.v.02'})}</td><td>cover with liquid, usually water;the rising of a body of water and its overflowing onto normally dry land;become filled to overflowing;fill quickly beyond capacity; as with a liquid                </td></tr>\n",
       "<tr><td style=\"text-align: right;\">10</td><td>explosion           </td><td>{8}         </td><td style=\"text-align: right;\">             7</td><td style=\"text-align: right;\">                1</td><td>{frozenset({'explosion.n.02'})}                                       </td><td>the act of exploding or bursting                                                                                                                                                                     </td></tr>\n",
       "<tr><td style=\"text-align: right;\">11</td><td>shooting            </td><td>{18}        </td><td style=\"text-align: right;\">            22</td><td style=\"text-align: right;\">                1</td><td>{frozenset({'shooting.n.02', 'shoot.v.02'})}                          </td><td>killing someone by gunfire;kill by firing a missile                                                                                                                                                  </td></tr>\n",
       "<tr><td style=\"text-align: right;\">12</td><td>fire                </td><td>{5, 13, 14} </td><td style=\"text-align: right;\">            18</td><td style=\"text-align: right;\">                2</td><td>{frozenset({'displace.v.03'}), frozenset({'fire.n.01'})}              </td><td>the event of something burning (often destructive) AND terminate the employment of; discharge from an office or position                                                                             </td></tr>\n",
       "<tr><td style=\"text-align: right;\">13</td><td>shoot               </td><td>{18}        </td><td style=\"text-align: right;\">            22</td><td style=\"text-align: right;\">                1</td><td>{frozenset({'shooting.n.02', 'shoot.v.02'})}                          </td><td>killing someone by gunfire;kill by firing a missile                                                                                                                                                  </td></tr>\n",
       "<tr><td style=\"text-align: right;\">14</td><td>merge               </td><td>set()       </td><td style=\"text-align: right;\">             3</td><td style=\"text-align: right;\">                1</td><td>{frozenset({'unify.v.01', 'amalgamation.n.01'})}                      </td><td>become one;the combination of two or more commercial companies                                                                                                                                       </td></tr>\n",
       "<tr><td style=\"text-align: right;\">15</td><td>merger              </td><td>set()       </td><td style=\"text-align: right;\">             2</td><td style=\"text-align: right;\">                1</td><td>{frozenset({'unify.v.01', 'amalgamation.n.01'})}                      </td><td>become one;the combination of two or more commercial companies                                                                                                                                       </td></tr>\n",
       "<tr><td style=\"text-align: right;\">16</td><td>bombing             </td><td>{41}        </td><td style=\"text-align: right;\">             4</td><td style=\"text-align: right;\">                1</td><td>{frozenset({'bombing.n.02', 'bombard.v.02', 'bombing.n.01'})}         </td><td>throw bombs at or attack with bombs;an attack by dropping bombs;the use of bombs for sabotage; a tactic frequently used by terrorists                                                                </td></tr>\n",
       "<tr><td style=\"text-align: right;\">17</td><td>assassination       </td><td>{32, 16}    </td><td style=\"text-align: right;\">             2</td><td style=\"text-align: right;\">                1</td><td>{frozenset({'assassinate.v.01', 'murder.n.01'})}                      </td><td>murder; especially of socially prominent persons;unlawful premeditated killing of a human being by a human being                                                                                     </td></tr>\n",
       "<tr><td style=\"text-align: right;\">18</td><td>sales               </td><td>set()       </td><td style=\"text-align: right;\">             6</td><td style=\"text-align: right;\">                1</td><td>{frozenset({'sale.n.01'})}                                            </td><td>a particular instance of selling                                                                                                                                                                     </td></tr>\n",
       "<tr><td style=\"text-align: right;\">19</td><td>release             </td><td>set()       </td><td style=\"text-align: right;\">            22</td><td style=\"text-align: right;\">                1</td><td>{frozenset({'release.n.01'})}                                         </td><td>merchandise issued for sale or public showing (especially a record or film)                                                                                                                          </td></tr>\n",
       "<tr><td style=\"text-align: right;\">20</td><td>profit              </td><td>set()       </td><td style=\"text-align: right;\">             4</td><td style=\"text-align: right;\">                1</td><td>{frozenset({'profit.v.02', 'net_income.n.01'})}                       </td><td>the excess of revenues over outlays in a given period of time (including depreciation and other non-cash expenses);make a profit; gain money or materially                                           </td></tr>\n",
       "<tr><td style=\"text-align: right;\">21</td><td>attack              </td><td>{12}        </td><td style=\"text-align: right;\">            15</td><td style=\"text-align: right;\">                1</td><td>{frozenset({'attack.n.01'})}                                          </td><td>(military) an offensive against an enemy (using weapons)                                                                                                                                             </td></tr>\n",
       "<tr><td style=\"text-align: right;\">22</td><td>storm               </td><td>set()       </td><td style=\"text-align: right;\">             8</td><td style=\"text-align: right;\">                1</td><td>{frozenset({'storm.n.01', 'storm.v.03'})}                             </td><td>a violent weather condition with winds 64-72 knots (11 on the Beaufort scale) and precipitation and thunder and lightning;rain, hail, or snow hard and be very windy, often with thunder or lightning</td></tr>\n",
       "<tr><td style=\"text-align: right;\">23</td><td>takeover            </td><td>set()       </td><td style=\"text-align: right;\">             2</td><td style=\"text-align: right;\">                1</td><td>{frozenset({'buyout.n.01'})}                                          </td><td>acquisition of a company by purchasing a controlling percentage of its stock                                                                                                                         </td></tr>\n",
       "<tr><td style=\"text-align: right;\">24</td><td>death               </td><td>{26, 28, 23}</td><td style=\"text-align: right;\">             8</td><td style=\"text-align: right;\">                1</td><td>{frozenset({'death.n.01', 'die.v.01'})}                               </td><td>pass from physical life and lose all bodily attributes and functions necessary to sustain life;the event of dying or departure from life                                                             </td></tr>\n",
       "<tr><td style=\"text-align: right;\">25</td><td>assassinate         </td><td>{32, 16}    </td><td style=\"text-align: right;\">             2</td><td style=\"text-align: right;\">                1</td><td>{frozenset({'assassinate.v.01', 'murder.n.01'})}                      </td><td>murder; especially of socially prominent persons;unlawful premeditated killing of a human being by a human being                                                                                     </td></tr>\n",
       "<tr><td style=\"text-align: right;\">26</td><td>theft               </td><td>{24}        </td><td style=\"text-align: right;\">             1</td><td style=\"text-align: right;\">                1</td><td>{frozenset({'steal.v.01', 'larceny.n.01'})}                           </td><td>the act of taking something from someone unlawfully;take without the owner's consent                                                                                                                 </td></tr>\n",
       "<tr><td style=\"text-align: right;\">27</td><td>vandalism           </td><td>set()       </td><td style=\"text-align: right;\">             1</td><td style=\"text-align: right;\">                1</td><td>{frozenset({'vandalism.n.01'})}                                       </td><td>willful wanton and malicious destruction of the property of others                                                                                                                                   </td></tr>\n",
       "<tr><td style=\"text-align: right;\">28</td><td>die                 </td><td>{26, 28, 23}</td><td style=\"text-align: right;\">            14</td><td style=\"text-align: right;\">                1</td><td>{frozenset({'death.n.01', 'die.v.01'})}                               </td><td>pass from physical life and lose all bodily attributes and functions necessary to sustain life;the event of dying or departure from life                                                             </td></tr>\n",
       "<tr><td style=\"text-align: right;\">29</td><td>earthquake          </td><td>{20, 37, 38}</td><td style=\"text-align: right;\">             2</td><td style=\"text-align: right;\">                1</td><td>{frozenset({'earthquake.n.01'})}                                      </td><td>shaking and vibration at the surface of the earth resulting from underground movement along a fault plane of from volcanic activity                                                                  </td></tr>\n",
       "</table>"
      ],
      "text/plain": [
       "<IPython.core.display.HTML object>"
      ]
     },
     "metadata": {},
     "output_type": "display_data"
    }
   ],
   "source": [
    "main_dict = lex_expr_objs\n",
    "keys = lex_expr_objs.keys()\n",
    "headers = ['lexical_expression',\n",
    "           'ecb_topics',\n",
    "           'wn_ambiguity', 'event_ambiguity', \n",
    "           'event_instance_ids', 'event_instance_defs']\n",
    "\n",
    "table = utils.show_me(main_dict, keys, headers, meta={'wn_ambiguity', 'event_ambiguity'})\n",
    "display(HTML(table))"
   ]
  },
  {
   "cell_type": "code",
   "execution_count": null,
   "metadata": {
    "collapsed": true
   },
   "outputs": [],
   "source": []
  }
 ],
 "metadata": {
  "anaconda-cloud": {},
  "kernelspec": {
   "display_name": "Python [conda root]",
   "language": "python",
   "name": "conda-root-py"
  },
  "language_info": {
   "codemirror_mode": {
    "name": "ipython",
    "version": 3
   },
   "file_extension": ".py",
   "mimetype": "text/x-python",
   "name": "python",
   "nbconvert_exporter": "python",
   "pygments_lexer": "ipython3",
   "version": "3.5.2"
  }
 },
 "nbformat": 4,
 "nbformat_minor": 1
}
