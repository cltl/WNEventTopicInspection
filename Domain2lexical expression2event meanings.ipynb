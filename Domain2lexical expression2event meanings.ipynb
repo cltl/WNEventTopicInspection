{
 "cells": [
  {
   "cell_type": "code",
   "execution_count": 1,
   "metadata": {
    "collapsed": true
   },
   "outputs": [],
   "source": [
    "from IPython.core.display import display, HTML"
   ]
  },
  {
   "cell_type": "code",
   "execution_count": 2,
   "metadata": {
    "collapsed": false
   },
   "outputs": [],
   "source": [
    "import annotate\n",
    "import utils"
   ]
  },
  {
   "cell_type": "markdown",
   "metadata": {},
   "source": [
    "# TODO\n",
    "* add chosing topics from Piek from other meeting (see highlighted topics in 'NWR-2014-1.pdf' in the same directory as this notebook)"
   ]
  },
  {
   "cell_type": "markdown",
   "metadata": {},
   "source": [
    "## [the chosen topics from the meeting](https://docs.google.com/document/d/14tt72QplXdcRbV3u4m5sTVRtywnj8LpAf61pI1LDHjs/edit?usp=sharing)\n",
    "* I tried to determine which meaning out of the possible meanings are **event meanings**."
   ]
  },
  {
   "cell_type": "code",
   "execution_count": 8,
   "metadata": {
    "collapsed": false
   },
   "outputs": [],
   "source": [
    "domain2lex_expr2ev_meanings = {\n",
    "    'crime' : \n",
    "     {('kill',): {'killing.n.02', 'kill.v.01'}, # kill.v.10?\n",
    "      ('robbery', 'rob') : {'robbery.n.01', 'rob.v.01'},\n",
    "      ('vandalism',) : {'vandalism.n.01'},\n",
    "     },\n",
    "    'employment' :\n",
    "     {('hire',) : {'hire.v.01'},\n",
    "      ('fire',) : {'displace.v.03'}\n",
    "     },\n",
    "    'disasters' :\n",
    "     {('earthquake',) : {'earthquake.n.01'},\n",
    "      ('fire',) : {'fire.n.01'},\n",
    "      ('flood', 'flooding') : {'flood.n.01', 'flood.v.02', 'flood.v.04', 'deluge.v.01'},\n",
    "      ('storm',) : {'storm.n.01', 'storm.v.03'}\n",
    "     },\n",
    "     'business' :\n",
    "     {('profit',) : {'profit.v.02', 'net_income.n.01'},\n",
    "      ('sales',) : {'sale.n.01'},\n",
    "      ('takeover',) : {'takeover.n.02'},\n",
    "      ('merge', 'merger') : {'amalgamation.n.01', 'unify.v.01'},\n",
    "      ('release',) : {'release.n.01'},\n",
    "     }\n",
    "}"
   ]
  },
  {
   "cell_type": "code",
   "execution_count": 9,
   "metadata": {
    "collapsed": false
   },
   "outputs": [],
   "source": [
    "lex_expr_objs, ev_meaning_objs = utils.load_it(domain2lex_expr2ev_meanings)"
   ]
  },
  {
   "cell_type": "markdown",
   "metadata": {},
   "source": [
    "## Select the meanings that:\n",
    "* belong to the topic\n",
    "* are event meanings"
   ]
  },
  {
   "cell_type": "code",
   "execution_count": 10,
   "metadata": {
    "collapsed": false
   },
   "outputs": [
    {
     "name": "stdout",
     "output_type": "stream",
     "text": [
      "\n",
      "kill\n",
      "\n",
      "\n",
      "HYPERNYM Synset('termination.n.05') the act of ending something\n",
      "Synset('killing.n.02') the act of terminating a life\n",
      "[]\n",
      "\n",
      "HYPERNYM Synset('destruction.n.01') the termination of something by causing so much damage to it that it cannot be repaired or no longer exists\n",
      "Synset('kill.n.02') the destruction of an enemy plane or ship or tank or missile\n",
      "['the pilot reported two kills during the mission']\n",
      "\n",
      "Synset('kill.v.01') cause to die; put to death, usually intentionally or knowingly\n",
      "['This man killed several people when he tried to rob a bank', 'The farmer killed a pig for the holidays']\n",
      "\n",
      "HYPERNYM Synset('veto.v.01') vote against; refuse to endorse; refuse to assent\n",
      "Synset('kill.v.02') thwart the passage of\n",
      "['kill a motion', \"he shot down the student's proposal\"]\n",
      "\n",
      "HYPERNYM Synset('end.v.02') bring to an end or halt\n",
      "Synset('stamp_out.v.01') end or extinguish by forceful means\n",
      "['Stamp out poverty!']\n",
      "\n",
      "HYPERNYM Synset('be.v.01') have the quality of being; (copula, used with an adjective or a predicate noun)\n",
      "Synset('kill.v.04') be fatal\n",
      "['cigarettes kill', 'drunken driving kills']\n",
      "\n",
      "HYPERNYM Synset('hurt.v.06') feel physical pain\n",
      "Synset('kill.v.05') be the source of great pain for\n",
      "['These new shoes are killing me!']\n",
      "\n",
      "HYPERNYM Synset('overwhelm.v.01') overcome, as with emotions or perceptual stimuli\n",
      "Synset('kill.v.06') overwhelm with hilarity, pleasure, or admiration\n",
      "['The comedian was so funny, he was killing me!']\n",
      "\n",
      "HYPERNYM Synset('hit.v.01') cause to move by striking\n",
      "Synset('kill.v.07') hit with so much force as to make a return impossible, in racket games\n",
      "['She killed the ball']\n",
      "\n",
      "HYPERNYM Synset('hit.v.01') cause to move by striking\n",
      "Synset('kill.v.08') hit with great force\n",
      "['He killed the ball']\n",
      "\n",
      "Synset('kill.v.09') deprive of life\n",
      "['AIDS has killed thousands in Africa']\n",
      "\n",
      "Synset('kill.v.10') cause the death of, without intention\n",
      "['She was killed in the collision of three cars']\n",
      "\n",
      "HYPERNYM Synset('drink.v.01') take in liquids\n",
      "Synset('toss_off.v.02') drink down entirely\n",
      "['He downed three martinis before dinner', 'She killed a bottle of brandy that night', 'They popped a few beer after work']\n",
      "\n",
      "HYPERNYM Synset('take_away.v.03') take out or remove\n",
      "Synset('kill.v.12') mark for deletion, rub off, or erase\n",
      "[\"kill these lines in the President's speech\"]\n",
      "\n",
      "HYPERNYM Synset('exhaust.v.01') wear out completely\n",
      "Synset('kill.v.13') tire out completely\n",
      "['The daily stress of her work is killing her']\n",
      "\n",
      "HYPERNYM Synset('switch_off.v.01') cause to stop operating by disengaging a switch\n",
      "Synset('kill.v.14') cause to cease operating\n",
      "['kill the engine']\n",
      "\n",
      "HYPERNYM Synset('destroy.v.01') do away with, cause the destruction or undoing of\n",
      "Synset('kill.v.15') destroy a vitally essential quality of or in\n",
      "['Eating artichokes kills the taste of all other foods']\n"
     ]
    }
   ],
   "source": [
    "lemmas = {'kill'}\n",
    "annotate.search_for_event_meanings(lemmas)"
   ]
  },
  {
   "cell_type": "markdown",
   "metadata": {
    "collapsed": true
   },
   "source": [
    "## Inspect event meanings"
   ]
  },
  {
   "cell_type": "code",
   "execution_count": 6,
   "metadata": {
    "collapsed": false
   },
   "outputs": [
    {
     "data": {
      "text/html": [
       "<table>\n",
       "<tr><th style=\"text-align: right;\">  </th><th>wn_meanings                                              </th><th>domain    </th><th style=\"text-align: right;\">  variance</th><th>lexical_expressions                                                                                                                  </th></tr>\n",
       "<tr><td style=\"text-align: right;\"> 0</td><td>{'storm.v.03', 'storm.n.01'}                             </td><td>disasters </td><td style=\"text-align: right;\">         2</td><td>{'violent_storm', 'storm'}                                                                                                           </td></tr>\n",
       "<tr><td style=\"text-align: right;\"> 1</td><td>{'hire.v.01'}                                            </td><td>employment</td><td style=\"text-align: right;\">         3</td><td>{'engage', 'hire', 'employ'}                                                                                                         </td></tr>\n",
       "<tr><td style=\"text-align: right;\"> 2</td><td>{'kill.v.01', 'killing.n.02'}                            </td><td>crime     </td><td style=\"text-align: right;\">         3</td><td>{'putting_to_death', 'killing', 'kill'}                                                                                              </td></tr>\n",
       "<tr><td style=\"text-align: right;\"> 3</td><td>{'earthquake.n.01'}                                      </td><td>disasters </td><td style=\"text-align: right;\">         4</td><td>{'quake', 'earthquake', 'temblor', 'seism'}                                                                                          </td></tr>\n",
       "<tr><td style=\"text-align: right;\"> 4</td><td>{'vandalism.n.01'}                                       </td><td>crime     </td><td style=\"text-align: right;\">         3</td><td>{'vandalism', 'hooliganism', 'malicious_mischief'}                                                                                   </td></tr>\n",
       "<tr><td style=\"text-align: right;\"> 5</td><td>{'amalgamation.n.01', 'unify.v.01'}                      </td><td>business  </td><td style=\"text-align: right;\">         6</td><td>{'amalgamation', 'merge', 'uniting', 'unify', 'unite', 'merger'}                                                                     </td></tr>\n",
       "<tr><td style=\"text-align: right;\"> 6</td><td>{'takeover.n.02'}                                        </td><td>business  </td><td style=\"text-align: right;\">         1</td><td>{'takeover'}                                                                                                                         </td></tr>\n",
       "<tr><td style=\"text-align: right;\"> 7</td><td>{'robbery.n.01', 'rob.v.01'}                             </td><td>crime     </td><td style=\"text-align: right;\">         2</td><td>{'rob', 'robbery'}                                                                                                                   </td></tr>\n",
       "<tr><td style=\"text-align: right;\"> 8</td><td>{'profit.v.02', 'net_income.n.01'}                       </td><td>business  </td><td style=\"text-align: right;\">         8</td><td>{'profit', 'net', 'profits', 'turn_a_profit', 'net_income', 'lucre', 'net_profit', 'earnings'}                                       </td></tr>\n",
       "<tr><td style=\"text-align: right;\"> 9</td><td>{'fire.n.01'}                                            </td><td>disasters </td><td style=\"text-align: right;\">         1</td><td>{'fire'}                                                                                                                             </td></tr>\n",
       "<tr><td style=\"text-align: right;\">10</td><td>{'flood.v.02', 'flood.v.04', 'flood.n.01', 'deluge.v.01'}</td><td>disasters </td><td style=\"text-align: right;\">         6</td><td>{'deluge', 'inundation', 'inundate', 'flood', 'alluvion', 'swamp'}                                                                   </td></tr>\n",
       "<tr><td style=\"text-align: right;\">11</td><td>{'sale.n.01'}                                            </td><td>business  </td><td style=\"text-align: right;\">         1</td><td>{'sale'}                                                                                                                             </td></tr>\n",
       "<tr><td style=\"text-align: right;\">12</td><td>{'release.n.01'}                                         </td><td>business  </td><td style=\"text-align: right;\">         1</td><td>{'release'}                                                                                                                          </td></tr>\n",
       "<tr><td style=\"text-align: right;\">13</td><td>{'displace.v.03'}                                        </td><td>employment</td><td style=\"text-align: right;\">        11</td><td>{'sack', 'give_notice', 'fire', 'send_away', 'terminate', 'give_the_axe', 'dismiss', 'can', 'give_the_sack', 'force_out', 'displace'}</td></tr>\n",
       "</table>"
      ],
      "text/plain": [
       "<IPython.core.display.HTML object>"
      ]
     },
     "metadata": {},
     "output_type": "display_data"
    }
   ],
   "source": [
    "main_dict = ev_meaning_objs\n",
    "keys = ev_meaning_objs.keys()\n",
    "headers = ['wn_meanings', 'domain',\n",
    "           'variance', 'lexical_expressions']\n",
    "\n",
    "table = utils.show_me(main_dict, keys, headers)\n",
    "display(HTML(table))"
   ]
  },
  {
   "cell_type": "markdown",
   "metadata": {},
   "source": [
    "## Inspect lexical expression"
   ]
  },
  {
   "cell_type": "code",
   "execution_count": 7,
   "metadata": {
    "collapsed": false,
    "scrolled": true
   },
   "outputs": [
    {
     "data": {
      "text/html": [
       "<table>\n",
       "<tr><th style=\"text-align: right;\">  </th><th>lexical_expression  </th><th style=\"text-align: right;\">  event_ambiguity</th><th>event_instance_ids                                                    </th><th>event_instance_defs                                                                                                                                                                                  </th></tr>\n",
       "<tr><td style=\"text-align: right;\"> 0</td><td>profit              </td><td style=\"text-align: right;\">                1</td><td>{frozenset({'profit.v.02', 'net_income.n.01'})}                       </td><td>the excess of revenues over outlays in a given period of time (including depreciation and other non-cash expenses);make a profit; gain money or materially                                           </td></tr>\n",
       "<tr><td style=\"text-align: right;\"> 1</td><td>earthquake          </td><td style=\"text-align: right;\">                1</td><td>{frozenset({'earthquake.n.01'})}                                      </td><td>shaking and vibration at the surface of the earth resulting from underground movement along a fault plane of from volcanic activity                                                                  </td></tr>\n",
       "<tr><td style=\"text-align: right;\"> 2</td><td>vandalism           </td><td style=\"text-align: right;\">                1</td><td>{frozenset({'vandalism.n.01'})}                                       </td><td>willful wanton and malicious destruction of the property of others                                                                                                                                   </td></tr>\n",
       "<tr><td style=\"text-align: right;\"> 3</td><td>robbery             </td><td style=\"text-align: right;\">                1</td><td>{frozenset({'robbery.n.01', 'rob.v.01'})}                             </td><td>larceny by threat of violence;take something away by force or without the consent of the owner                                                                                                       </td></tr>\n",
       "<tr><td style=\"text-align: right;\"> 4</td><td>fire                </td><td style=\"text-align: right;\">                2</td><td>{frozenset({'displace.v.03'}), frozenset({'fire.n.01'})}              </td><td>the event of something burning (often destructive) AND terminate the employment of; discharge from an office or position                                                                             </td></tr>\n",
       "<tr><td style=\"text-align: right;\"> 5</td><td>merger              </td><td style=\"text-align: right;\">                1</td><td>{frozenset({'amalgamation.n.01', 'unify.v.01'})}                      </td><td>the combination of two or more commercial companies;become one                                                                                                                                       </td></tr>\n",
       "<tr><td style=\"text-align: right;\"> 6</td><td>hire                </td><td style=\"text-align: right;\">                1</td><td>{frozenset({'hire.v.01'})}                                            </td><td>engage or hire for work                                                                                                                                                                              </td></tr>\n",
       "<tr><td style=\"text-align: right;\"> 7</td><td>flooding            </td><td style=\"text-align: right;\">                1</td><td>{frozenset({'flood.v.02', 'flood.v.04', 'flood.n.01', 'deluge.v.01'})}</td><td>cover with liquid, usually water;fill quickly beyond capacity; as with a liquid;the rising of a body of water and its overflowing onto normally dry land;become filled to overflowing                </td></tr>\n",
       "<tr><td style=\"text-align: right;\"> 8</td><td>flood               </td><td style=\"text-align: right;\">                1</td><td>{frozenset({'flood.v.02', 'flood.v.04', 'flood.n.01', 'deluge.v.01'})}</td><td>cover with liquid, usually water;fill quickly beyond capacity; as with a liquid;the rising of a body of water and its overflowing onto normally dry land;become filled to overflowing                </td></tr>\n",
       "<tr><td style=\"text-align: right;\"> 9</td><td>takeover            </td><td style=\"text-align: right;\">                1</td><td>{frozenset({'takeover.n.02'})}                                        </td><td>a change by sale or merger in the controlling interest of a corporation                                                                                                                              </td></tr>\n",
       "<tr><td style=\"text-align: right;\">10</td><td>release             </td><td style=\"text-align: right;\">                1</td><td>{frozenset({'release.n.01'})}                                         </td><td>merchandise issued for sale or public showing (especially a record or film)                                                                                                                          </td></tr>\n",
       "<tr><td style=\"text-align: right;\">11</td><td>rob                 </td><td style=\"text-align: right;\">                1</td><td>{frozenset({'robbery.n.01', 'rob.v.01'})}                             </td><td>larceny by threat of violence;take something away by force or without the consent of the owner                                                                                                       </td></tr>\n",
       "<tr><td style=\"text-align: right;\">12</td><td>storm               </td><td style=\"text-align: right;\">                1</td><td>{frozenset({'storm.v.03', 'storm.n.01'})}                             </td><td>rain, hail, or snow hard and be very windy, often with thunder or lightning;a violent weather condition with winds 64-72 knots (11 on the Beaufort scale) and precipitation and thunder and lightning</td></tr>\n",
       "<tr><td style=\"text-align: right;\">13</td><td>kill                </td><td style=\"text-align: right;\">                1</td><td>{frozenset({'kill.v.01', 'killing.n.02'})}                            </td><td>cause to die; put to death, usually intentionally or knowingly;the act of terminating a life                                                                                                         </td></tr>\n",
       "<tr><td style=\"text-align: right;\">14</td><td>merge               </td><td style=\"text-align: right;\">                1</td><td>{frozenset({'amalgamation.n.01', 'unify.v.01'})}                      </td><td>the combination of two or more commercial companies;become one                                                                                                                                       </td></tr>\n",
       "<tr><td style=\"text-align: right;\">15</td><td>sales               </td><td style=\"text-align: right;\">                1</td><td>{frozenset({'sale.n.01'})}                                            </td><td>a particular instance of selling                                                                                                                                                                     </td></tr>\n",
       "</table>"
      ],
      "text/plain": [
       "<IPython.core.display.HTML object>"
      ]
     },
     "metadata": {},
     "output_type": "display_data"
    }
   ],
   "source": [
    "main_dict = lex_expr_objs\n",
    "keys = lex_expr_objs.keys()\n",
    "headers = ['lexical_expression', 'event_ambiguity', \n",
    "           'event_instance_ids', 'event_instance_defs']\n",
    "\n",
    "table = utils.show_me(main_dict, keys, headers)\n",
    "display(HTML(table))"
   ]
  }
 ],
 "metadata": {
  "anaconda-cloud": {},
  "kernelspec": {
   "display_name": "Python [Root]",
   "language": "python",
   "name": "Python [Root]"
  },
  "language_info": {
   "codemirror_mode": {
    "name": "ipython",
    "version": 3
   },
   "file_extension": ".py",
   "mimetype": "text/x-python",
   "name": "python",
   "nbconvert_exporter": "python",
   "pygments_lexer": "ipython3",
   "version": "3.5.2"
  }
 },
 "nbformat": 4,
 "nbformat_minor": 1
}
