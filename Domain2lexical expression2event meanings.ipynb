{
 "cells": [
  {
   "cell_type": "code",
   "execution_count": 1,
   "metadata": {
    "collapsed": true
   },
   "outputs": [],
   "source": [
    "from IPython.core.display import display, HTML"
   ]
  },
  {
   "cell_type": "code",
   "execution_count": 2,
   "metadata": {
    "collapsed": false
   },
   "outputs": [],
   "source": [
    "import annotate\n",
    "import utils"
   ]
  },
  {
   "cell_type": "markdown",
   "metadata": {},
   "source": [
    "# TODO\n",
    "* add chosing topics from Piek from other meeting (see highlighted topics in 'NWR-2014-1.pdf' in the same directory as this notebook)"
   ]
  },
  {
   "cell_type": "markdown",
   "metadata": {},
   "source": [
    "\n",
    "## [the chosen topics from the meeting](https://docs.google.com/document/d/14tt72QplXdcRbV3u4m5sTVRtywnj8LpAf61pI1LDHjs/edit?usp=sharing)\n",
    "* I tried to determine which meaning out of the possible meanings are **event meanings**.\n",
    "\n",
    "* TODO: include topic identifiers ECB(+)\n",
    "* TODO: defineer waarom je bepaalde betekenissen samenvoegt (zelfde referent)\n",
    "* TODO: cross-pos underfocused"
   ]
  },
  {
   "cell_type": "code",
   "execution_count": 3,
   "metadata": {
    "collapsed": false
   },
   "outputs": [],
   "source": [
    "domain2lex_expr2ev_meanings = {\n",
    "    'crime' : \n",
    "     {('kill',): {'killing.n.02', 'kill.v.01'}, # kill.v.10?\n",
    "      ('robbery', 'rob') : {'robbery.n.01', 'rob.v.01'},\n",
    "      ('vandalism',) : {'vandalism.n.01'},\n",
    "     },\n",
    "    'employment' :\n",
    "     {('hire',) : {'hire.v.01'},\n",
    "      ('fire',) : {'displace.v.03'}\n",
    "     },\n",
    "    'disasters' :\n",
    "     {('earthquake',) : {'earthquake.n.01'},\n",
    "      ('fire',) : {'fire.n.01'}, # link this to ecb(+) topics\n",
    "      ('flood', 'flooding') : {'flood.n.01', 'flood.v.02', 'flood.v.04', 'deluge.v.01'},\n",
    "      ('storm',) : {'storm.n.01', 'storm.v.03'}\n",
    "     },\n",
    "     'business' :\n",
    "     {('profit',) : {'profit.v.02', 'net_income.n.01'},\n",
    "      ('sales',) : {'sale.n.01'},\n",
    "      ('take-over',) : set(),\n",
    "      ('merge', 'merger') : {'amalgamation.n.01', 'unify.v.01'},\n",
    "      ('release',) : {'release.n.01'},\n",
    "     }\n",
    "}"
   ]
  },
  {
   "cell_type": "code",
   "execution_count": 4,
   "metadata": {
    "collapsed": false
   },
   "outputs": [],
   "source": [
    "lex_expr_objs, ev_meaning_objs = utils.load_it(domain2lex_expr2ev_meanings)"
   ]
  },
  {
   "cell_type": "markdown",
   "metadata": {},
   "source": [
    "## Select the meanings that:\n",
    "* belong to the topic\n",
    "* are event meanings"
   ]
  },
  {
   "cell_type": "code",
   "execution_count": 5,
   "metadata": {
    "collapsed": false,
    "scrolled": true
   },
   "outputs": [
    {
     "name": "stdout",
     "output_type": "stream",
     "text": [
      "\n",
      "fire\n",
      "\n",
      "\n",
      "HYPERNYM Synset('happening.n.01') an event that happens\n",
      "Synset('fire.n.01') the event of something burning (often destructive)\n",
      "['they lost everything in the fire']\n",
      "\n",
      "HYPERNYM Synset('attack.n.01') (military) an offensive against an enemy (using weapons)\n",
      "Synset('fire.n.02') the act of firing weapons or artillery at an enemy\n",
      "['hold your fire until you can see the whites of their eyes', 'they retreated in the face of withering enemy fire']\n",
      "\n",
      "HYPERNYM Synset('combustion.n.01') a process in which a substance reacts with oxygen to give heat and light\n",
      "Synset('fire.n.03') the process of combustion of inflammable materials producing heat and light and (often) smoke\n",
      "[\"fire was one of our ancestors' first discoveries\"]\n",
      "\n",
      "HYPERNYM Synset('fireplace.n.01') an open recess in a wall at the base of a chimney where a fire can be built\n",
      "Synset('fire.n.04') a fireplace in which a relatively small fire is burning\n",
      "['they sat by the fire and talked']\n",
      "\n",
      "HYPERNYM Synset('element.n.05') one of four substances thought in ancient and medieval cosmology to constitute the physical universe\n",
      "Synset('fire.n.05') once thought to be one of four elements composing the universe (Empedocles)\n",
      "[]\n",
      "\n",
      "HYPERNYM Synset('passion.n.01') a strong feeling or emotion\n",
      "Synset('ardor.n.03') feelings of great warmth and intensity\n",
      "['he spoke with great ardor']\n",
      "\n",
      "HYPERNYM Synset('fuel.n.01') a substance that can be consumed to produce energy\n",
      "Synset('fire.n.07') fuel that is burning and is used as a means for cooking\n",
      "['put the kettle on the fire', 'barbecue over an open fire']\n",
      "\n",
      "HYPERNYM Synset('trial.n.06') an annoying or frustrating or catastrophic event\n",
      "Synset('fire.n.08') a severe trial\n",
      "['he went through fire and damnation']\n",
      "\n",
      "HYPERNYM Synset('criticism.n.01') disapproval expressed by pointing out faults or shortcomings\n",
      "Synset('fire.n.09') intense adverse criticism\n",
      "['Clinton directed his fire at the Republican Party', 'the government has come under attack', \"don't give me any flak\"]\n",
      "\n",
      "HYPERNYM Synset('blast.v.07') fire a shot\n",
      "Synset('open_fire.v.01') start firing a weapon\n",
      "[]\n",
      "\n",
      "Synset('fire.v.02') cause to go off\n",
      "['fire a gun', 'fire a bullet']\n",
      "\n",
      "HYPERNYM Synset('bake.v.01') cook and make edible by putting in a hot oven\n",
      "Synset('fire.v.03') bake in a kiln so as to harden\n",
      "['fire pottery']\n",
      "\n",
      "HYPERNYM Synset('remove.v.02') remove from a position or an office\n",
      "Synset('displace.v.03') terminate the employment of; discharge from an office or position\n",
      "['The boss fired his secretary today', 'The company terminated 25% of its workers']\n",
      "\n",
      "Synset('fire.v.05') go off or discharge\n",
      "['The gun fired']\n",
      "\n",
      "HYPERNYM Synset('chase_away.v.01') force to go away; used both with concrete and metaphoric meanings\n",
      "Synset('fire.v.06') drive out or away by or as if by fire\n",
      "['The soldiers were fired', 'Surrender fires the cold skepticism']\n",
      "\n",
      "HYPERNYM Synset('make.v.03') make or cause to be or to become\n",
      "Synset('arouse.v.01') call forth (emotions, feelings, and responses)\n",
      "['arouse pity', 'raise a smile', 'evoke sympathy']\n",
      "\n",
      "HYPERNYM Synset('destroy.v.02') destroy completely; damage irreparably\n",
      "Synset('burn.v.01') destroy by fire\n",
      "['They burned the house and his diaries']\n",
      "\n",
      "HYPERNYM Synset('supply.v.01') give something useful or necessary to\n",
      "Synset('fuel.v.02') provide with fuel\n",
      "['Oil fires the furnace']\n"
     ]
    }
   ],
   "source": [
    "lemmas = {'fire'}\n",
    "annotate.search_for_event_meanings(lemmas)"
   ]
  },
  {
   "cell_type": "markdown",
   "metadata": {
    "collapsed": true
   },
   "source": [
    "## Inspect event meanings"
   ]
  },
  {
   "cell_type": "code",
   "execution_count": 6,
   "metadata": {
    "collapsed": false
   },
   "outputs": [
    {
     "name": "stdout",
     "output_type": "stream",
     "text": [
      "number of rows: 14\n",
      "variance: min(0), avg(3.64), max(11)\n"
     ]
    },
    {
     "data": {
      "text/html": [
       "<table>\n",
       "<tr><th style=\"text-align: right;\">  </th><th>wn_meanings                                              </th><th>domain    </th><th style=\"text-align: right;\">  variance</th><th>lexical_expressions                                                                                                                  </th><th>ili_defs                                                                            </th></tr>\n",
       "<tr><td style=\"text-align: right;\"> 0</td><td>{'vandalism.n.01'}                                       </td><td>crime     </td><td style=\"text-align: right;\">         3</td><td>{'vandalism', 'hooliganism', 'malicious_mischief'}                                                                                   </td><td>{'ili-30-01249816-n'}                                                               </td></tr>\n",
       "<tr><td style=\"text-align: right;\"> 1</td><td>{'storm.n.01', 'storm.v.03'}                             </td><td>disasters </td><td style=\"text-align: right;\">         2</td><td>{'storm', 'violent_storm'}                                                                                                           </td><td>{'ili-30-11462526-n', 'ili-30-02770170-v'}                                          </td></tr>\n",
       "<tr><td style=\"text-align: right;\"> 2</td><td>set()                                                    </td><td>business  </td><td style=\"text-align: right;\">         0</td><td>set()                                                                                                                                </td><td>set()                                                                               </td></tr>\n",
       "<tr><td style=\"text-align: right;\"> 3</td><td>{'sale.n.01'}                                            </td><td>business  </td><td style=\"text-align: right;\">         1</td><td>{'sale'}                                                                                                                             </td><td>{'ili-30-01114824-n'}                                                               </td></tr>\n",
       "<tr><td style=\"text-align: right;\"> 4</td><td>{'hire.v.01'}                                            </td><td>employment</td><td style=\"text-align: right;\">         3</td><td>{'hire', 'engage', 'employ'}                                                                                                         </td><td>{'ili-30-02409412-v'}                                                               </td></tr>\n",
       "<tr><td style=\"text-align: right;\"> 5</td><td>{'killing.n.02', 'kill.v.01'}                            </td><td>crime     </td><td style=\"text-align: right;\">         3</td><td>{'putting_to_death', 'kill', 'killing'}                                                                                              </td><td>{'ili-30-01323958-v', 'ili-30-00219012-n'}                                          </td></tr>\n",
       "<tr><td style=\"text-align: right;\"> 6</td><td>{'profit.v.02', 'net_income.n.01'}                       </td><td>business  </td><td style=\"text-align: right;\">         8</td><td>{'net', 'profits', 'lucre', 'profit', 'earnings', 'turn_a_profit', 'net_profit', 'net_income'}                                       </td><td>{'ili-30-02278830-v', 'ili-30-13258362-n'}                                          </td></tr>\n",
       "<tr><td style=\"text-align: right;\"> 7</td><td>{'displace.v.03'}                                        </td><td>employment</td><td style=\"text-align: right;\">        11</td><td>{'force_out', 'give_the_axe', 'terminate', 'give_notice', 'dismiss', 'give_the_sack', 'displace', 'send_away', 'can', 'fire', 'sack'}</td><td>{'ili-30-02402825-v'}                                                               </td></tr>\n",
       "<tr><td style=\"text-align: right;\"> 8</td><td>{'flood.n.01', 'flood.v.04', 'flood.v.02', 'deluge.v.01'}</td><td>disasters </td><td style=\"text-align: right;\">         6</td><td>{'inundate', 'flood', 'swamp', 'inundation', 'alluvion', 'deluge'}                                                                   </td><td>{'ili-30-01524523-v', 'ili-30-00217152-v', 'ili-30-11454591-n', 'ili-30-00452220-v'}</td></tr>\n",
       "<tr><td style=\"text-align: right;\"> 9</td><td>{'robbery.n.01', 'rob.v.01'}                             </td><td>crime     </td><td style=\"text-align: right;\">         2</td><td>{'robbery', 'rob'}                                                                                                                   </td><td>{'ili-30-02321391-v', 'ili-30-00781685-n'}                                          </td></tr>\n",
       "<tr><td style=\"text-align: right;\">10</td><td>{'unify.v.01', 'amalgamation.n.01'}                      </td><td>business  </td><td style=\"text-align: right;\">         6</td><td>{'uniting', 'unify', 'amalgamation', 'merger', 'merge', 'unite'}                                                                     </td><td>{'ili-30-00367685-v', 'ili-30-01238424-n'}                                          </td></tr>\n",
       "<tr><td style=\"text-align: right;\">11</td><td>{'release.n.01'}                                         </td><td>business  </td><td style=\"text-align: right;\">         1</td><td>{'release'}                                                                                                                          </td><td>{'ili-30-04073208-n'}                                                               </td></tr>\n",
       "<tr><td style=\"text-align: right;\">12</td><td>{'earthquake.n.01'}                                      </td><td>disasters </td><td style=\"text-align: right;\">         4</td><td>{'quake', 'temblor', 'earthquake', 'seism'}                                                                                          </td><td>{'ili-30-07428954-n'}                                                               </td></tr>\n",
       "<tr><td style=\"text-align: right;\">13</td><td>{'fire.n.01'}                                            </td><td>disasters </td><td style=\"text-align: right;\">         1</td><td>{'fire'}                                                                                                                             </td><td>{'ili-30-07302836-n'}                                                               </td></tr>\n",
       "</table>"
      ],
      "text/plain": [
       "<IPython.core.display.HTML object>"
      ]
     },
     "metadata": {},
     "output_type": "display_data"
    }
   ],
   "source": [
    "main_dict = ev_meaning_objs\n",
    "keys = ev_meaning_objs.keys()\n",
    "headers = ['wn_meanings', 'domain',\n",
    "           'variance',\n",
    "           'lexical_expressions', 'ili_defs']\n",
    "\n",
    "table = utils.show_me(main_dict, keys, headers, meta={'variance'})\n",
    "display(HTML(table))\n",
    "\n",
    "# TODO: also check hyponyms\n",
    "# TODO: disjuncte en non-disjunct hyponyms"
   ]
  },
  {
   "cell_type": "markdown",
   "metadata": {},
   "source": [
    "## Inspect lexical expression"
   ]
  },
  {
   "cell_type": "code",
   "execution_count": 7,
   "metadata": {
    "collapsed": false,
    "scrolled": false
   },
   "outputs": [
    {
     "name": "stdout",
     "output_type": "stream",
     "text": [
      "number of rows: 16\n",
      "wn_ambiguity: min(0), avg(6.69), max(22)\n",
      "event_ambiguity: min(1), avg(1.06), max(2)\n"
     ]
    },
    {
     "data": {
      "text/html": [
       "<table>\n",
       "<tr><th style=\"text-align: right;\">  </th><th>lexical_expression  </th><th style=\"text-align: right;\">  wn_ambiguity</th><th style=\"text-align: right;\">  event_ambiguity</th><th>event_instance_ids                                                    </th><th>event_instance_defs                                                                                                                                                                                  </th></tr>\n",
       "<tr><td style=\"text-align: right;\"> 0</td><td>robbery             </td><td style=\"text-align: right;\">             2</td><td style=\"text-align: right;\">                1</td><td>{frozenset({'robbery.n.01', 'rob.v.01'})}                             </td><td>larceny by threat of violence;take something away by force or without the consent of the owner                                                                                                       </td></tr>\n",
       "<tr><td style=\"text-align: right;\"> 1</td><td>flood               </td><td style=\"text-align: right;\">            10</td><td style=\"text-align: right;\">                1</td><td>{frozenset({'flood.n.01', 'flood.v.04', 'flood.v.02', 'deluge.v.01'})}</td><td>become filled to overflowing;the rising of a body of water and its overflowing onto normally dry land;cover with liquid, usually water;fill quickly beyond capacity; as with a liquid                </td></tr>\n",
       "<tr><td style=\"text-align: right;\"> 2</td><td>release             </td><td style=\"text-align: right;\">            22</td><td style=\"text-align: right;\">                1</td><td>{frozenset({'release.n.01'})}                                         </td><td>merchandise issued for sale or public showing (especially a record or film)                                                                                                                          </td></tr>\n",
       "<tr><td style=\"text-align: right;\"> 3</td><td>vandalism           </td><td style=\"text-align: right;\">             1</td><td style=\"text-align: right;\">                1</td><td>{frozenset({'vandalism.n.01'})}                                       </td><td>willful wanton and malicious destruction of the property of others                                                                                                                                   </td></tr>\n",
       "<tr><td style=\"text-align: right;\"> 4</td><td>hire                </td><td style=\"text-align: right;\">             5</td><td style=\"text-align: right;\">                1</td><td>{frozenset({'hire.v.01'})}                                            </td><td>engage or hire for work                                                                                                                                                                              </td></tr>\n",
       "<tr><td style=\"text-align: right;\"> 5</td><td>flooding            </td><td style=\"text-align: right;\">             5</td><td style=\"text-align: right;\">                1</td><td>{frozenset({'flood.n.01', 'flood.v.04', 'flood.v.02', 'deluge.v.01'})}</td><td>become filled to overflowing;the rising of a body of water and its overflowing onto normally dry land;cover with liquid, usually water;fill quickly beyond capacity; as with a liquid                </td></tr>\n",
       "<tr><td style=\"text-align: right;\"> 6</td><td>merger              </td><td style=\"text-align: right;\">             2</td><td style=\"text-align: right;\">                1</td><td>{frozenset({'unify.v.01', 'amalgamation.n.01'})}                      </td><td>become one;the combination of two or more commercial companies                                                                                                                                       </td></tr>\n",
       "<tr><td style=\"text-align: right;\"> 7</td><td>merge               </td><td style=\"text-align: right;\">             3</td><td style=\"text-align: right;\">                1</td><td>{frozenset({'unify.v.01', 'amalgamation.n.01'})}                      </td><td>become one;the combination of two or more commercial companies                                                                                                                                       </td></tr>\n",
       "<tr><td style=\"text-align: right;\"> 8</td><td>sales               </td><td style=\"text-align: right;\">             6</td><td style=\"text-align: right;\">                1</td><td>{frozenset({'sale.n.01'})}                                            </td><td>a particular instance of selling                                                                                                                                                                     </td></tr>\n",
       "<tr><td style=\"text-align: right;\"> 9</td><td>take-over           </td><td style=\"text-align: right;\">             0</td><td style=\"text-align: right;\">                1</td><td>{frozenset()}                                                         </td><td>                                                                                                                                                                                                     </td></tr>\n",
       "<tr><td style=\"text-align: right;\">10</td><td>storm               </td><td style=\"text-align: right;\">             8</td><td style=\"text-align: right;\">                1</td><td>{frozenset({'storm.n.01', 'storm.v.03'})}                             </td><td>a violent weather condition with winds 64-72 knots (11 on the Beaufort scale) and precipitation and thunder and lightning;rain, hail, or snow hard and be very windy, often with thunder or lightning</td></tr>\n",
       "<tr><td style=\"text-align: right;\">11</td><td>profit              </td><td style=\"text-align: right;\">             4</td><td style=\"text-align: right;\">                1</td><td>{frozenset({'profit.v.02', 'net_income.n.01'})}                       </td><td>make a profit; gain money or materially;the excess of revenues over outlays in a given period of time (including depreciation and other non-cash expenses)                                           </td></tr>\n",
       "<tr><td style=\"text-align: right;\">12</td><td>kill                </td><td style=\"text-align: right;\">            17</td><td style=\"text-align: right;\">                1</td><td>{frozenset({'killing.n.02', 'kill.v.01'})}                            </td><td>the act of terminating a life;cause to die; put to death, usually intentionally or knowingly                                                                                                         </td></tr>\n",
       "<tr><td style=\"text-align: right;\">13</td><td>earthquake          </td><td style=\"text-align: right;\">             2</td><td style=\"text-align: right;\">                1</td><td>{frozenset({'earthquake.n.01'})}                                      </td><td>shaking and vibration at the surface of the earth resulting from underground movement along a fault plane of from volcanic activity                                                                  </td></tr>\n",
       "<tr><td style=\"text-align: right;\">14</td><td>fire                </td><td style=\"text-align: right;\">            18</td><td style=\"text-align: right;\">                2</td><td>{frozenset({'fire.n.01'}), frozenset({'displace.v.03'})}              </td><td>terminate the employment of; discharge from an office or position AND the event of something burning (often destructive)                                                                             </td></tr>\n",
       "<tr><td style=\"text-align: right;\">15</td><td>rob                 </td><td style=\"text-align: right;\">             2</td><td style=\"text-align: right;\">                1</td><td>{frozenset({'robbery.n.01', 'rob.v.01'})}                             </td><td>larceny by threat of violence;take something away by force or without the consent of the owner                                                                                                       </td></tr>\n",
       "</table>"
      ],
      "text/plain": [
       "<IPython.core.display.HTML object>"
      ]
     },
     "metadata": {},
     "output_type": "display_data"
    }
   ],
   "source": [
    "main_dict = lex_expr_objs\n",
    "keys = lex_expr_objs.keys()\n",
    "headers = ['lexical_expression', 'wn_ambiguity', 'event_ambiguity', \n",
    "           'event_instance_ids', 'event_instance_defs']\n",
    "\n",
    "table = utils.show_me(main_dict, keys, headers, meta={'wn_ambiguity', 'event_ambiguity'})\n",
    "display(HTML(table))"
   ]
  }
 ],
 "metadata": {
  "anaconda-cloud": {},
  "kernelspec": {
   "display_name": "Python [conda root]",
   "language": "python",
   "name": "conda-root-py"
  },
  "language_info": {
   "codemirror_mode": {
    "name": "ipython",
    "version": 3
   },
   "file_extension": ".py",
   "mimetype": "text/x-python",
   "name": "python",
   "nbconvert_exporter": "python",
   "pygments_lexer": "ipython3",
   "version": "3.5.2"
  }
 },
 "nbformat": 4,
 "nbformat_minor": 1
}
