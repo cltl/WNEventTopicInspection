{
 "cells": [
  {
   "cell_type": "code",
   "execution_count": 1,
   "metadata": {
    "collapsed": true
   },
   "outputs": [],
   "source": [
    "from IPython.core.display import display, HTML"
   ]
  },
  {
   "cell_type": "code",
   "execution_count": 2,
   "metadata": {
    "collapsed": false
   },
   "outputs": [],
   "source": [
    "import annotate\n",
    "import utils"
   ]
  },
  {
   "cell_type": "markdown",
   "metadata": {},
   "source": [
    "# TODO\n",
    "* add chosing topics from Piek from other meeting (see highlighted topics in 'NWR-2014-1.pdf' in the same directory as this notebook)\n",
    "* disjuncte en non-disjunct hyponyms\n",
    "* define why we cluster together certain meanings (same referent)\n",
    "* look into cross-pos research (probably underfocused)\n",
    "* link to topic identifiers ECB(+)"
   ]
  },
  {
   "cell_type": "markdown",
   "metadata": {},
   "source": [
    "\n",
    "## [the chosen topics from the meeting](https://docs.google.com/document/d/14tt72QplXdcRbV3u4m5sTVRtywnj8LpAf61pI1LDHjs/edit?usp=sharing)\n",
    "* I tried to determine which meaning out of the possible meanings are **event meanings**."
   ]
  },
  {
   "cell_type": "code",
   "execution_count": 3,
   "metadata": {
    "collapsed": false
   },
   "outputs": [],
   "source": [
    "domain2lex_expr2ev_meanings = {\n",
    "    'crime' : \n",
    "     {('kill',): {'killing.n.02', 'kill.v.01'}, # kill.v.10?\n",
    "      ('robbery', 'rob') : {'robbery.n.01', 'rob.v.01'},\n",
    "      ('vandalism',) : {'vandalism.n.01'},\n",
    "     },\n",
    "    'employment' :\n",
    "     {('hire',) : {'hire.v.01'},\n",
    "      ('fire',) : {'displace.v.03'}\n",
    "     },\n",
    "    'disasters' :\n",
    "     {('earthquake',) : {'earthquake.n.01'},\n",
    "      ('fire',) : {'fire.n.01'}, # link this to ecb(+) topics\n",
    "      ('flood', 'flooding') : {'flood.n.01', 'flood.v.02', 'flood.v.04', 'deluge.v.01'},\n",
    "      ('storm',) : {'storm.n.01', 'storm.v.03'}\n",
    "     },\n",
    "     'business' :\n",
    "     {('profit',) : {'profit.v.02', 'net_income.n.01'},\n",
    "      ('sales',) : {'sale.n.01'},\n",
    "      ('take-over',) : set(),\n",
    "      ('merge', 'merger') : {'amalgamation.n.01', 'unify.v.01'},\n",
    "      ('release',) : {'release.n.01'},\n",
    "     }\n",
    "}"
   ]
  },
  {
   "cell_type": "code",
   "execution_count": 4,
   "metadata": {
    "collapsed": false
   },
   "outputs": [],
   "source": [
    "lex_expr_objs, ev_meaning_objs = utils.load_it(domain2lex_expr2ev_meanings)"
   ]
  },
  {
   "cell_type": "markdown",
   "metadata": {},
   "source": [
    "## Select the meanings that:\n",
    "* belong to the topic\n",
    "* are event meanings"
   ]
  },
  {
   "cell_type": "code",
   "execution_count": 5,
   "metadata": {
    "collapsed": false,
    "scrolled": true
   },
   "outputs": [
    {
     "name": "stdout",
     "output_type": "stream",
     "text": [
      "\n",
      "fire\n",
      "\n",
      "\n",
      "HYPERNYM Synset('happening.n.01') an event that happens\n",
      "Synset('fire.n.01') the event of something burning (often destructive)\n",
      "['they lost everything in the fire']\n",
      "\n",
      "HYPERNYM Synset('attack.n.01') (military) an offensive against an enemy (using weapons)\n",
      "Synset('fire.n.02') the act of firing weapons or artillery at an enemy\n",
      "['hold your fire until you can see the whites of their eyes', 'they retreated in the face of withering enemy fire']\n",
      "\n",
      "HYPERNYM Synset('combustion.n.01') a process in which a substance reacts with oxygen to give heat and light\n",
      "Synset('fire.n.03') the process of combustion of inflammable materials producing heat and light and (often) smoke\n",
      "[\"fire was one of our ancestors' first discoveries\"]\n",
      "\n",
      "HYPERNYM Synset('fireplace.n.01') an open recess in a wall at the base of a chimney where a fire can be built\n",
      "Synset('fire.n.04') a fireplace in which a relatively small fire is burning\n",
      "['they sat by the fire and talked']\n",
      "\n",
      "HYPERNYM Synset('element.n.05') one of four substances thought in ancient and medieval cosmology to constitute the physical universe\n",
      "Synset('fire.n.05') once thought to be one of four elements composing the universe (Empedocles)\n",
      "[]\n",
      "\n",
      "HYPERNYM Synset('passion.n.01') a strong feeling or emotion\n",
      "Synset('ardor.n.03') feelings of great warmth and intensity\n",
      "['he spoke with great ardor']\n",
      "\n",
      "HYPERNYM Synset('fuel.n.01') a substance that can be consumed to produce energy\n",
      "Synset('fire.n.07') fuel that is burning and is used as a means for cooking\n",
      "['put the kettle on the fire', 'barbecue over an open fire']\n",
      "\n",
      "HYPERNYM Synset('trial.n.06') an annoying or frustrating or catastrophic event\n",
      "Synset('fire.n.08') a severe trial\n",
      "['he went through fire and damnation']\n",
      "\n",
      "HYPERNYM Synset('criticism.n.01') disapproval expressed by pointing out faults or shortcomings\n",
      "Synset('fire.n.09') intense adverse criticism\n",
      "['Clinton directed his fire at the Republican Party', 'the government has come under attack', \"don't give me any flak\"]\n",
      "\n",
      "HYPERNYM Synset('blast.v.07') fire a shot\n",
      "Synset('open_fire.v.01') start firing a weapon\n",
      "[]\n",
      "\n",
      "Synset('fire.v.02') cause to go off\n",
      "['fire a gun', 'fire a bullet']\n",
      "\n",
      "HYPERNYM Synset('bake.v.01') cook and make edible by putting in a hot oven\n",
      "Synset('fire.v.03') bake in a kiln so as to harden\n",
      "['fire pottery']\n",
      "\n",
      "HYPERNYM Synset('remove.v.02') remove from a position or an office\n",
      "Synset('displace.v.03') terminate the employment of; discharge from an office or position\n",
      "['The boss fired his secretary today', 'The company terminated 25% of its workers']\n",
      "\n",
      "Synset('fire.v.05') go off or discharge\n",
      "['The gun fired']\n",
      "\n",
      "HYPERNYM Synset('chase_away.v.01') force to go away; used both with concrete and metaphoric meanings\n",
      "Synset('fire.v.06') drive out or away by or as if by fire\n",
      "['The soldiers were fired', 'Surrender fires the cold skepticism']\n",
      "\n",
      "HYPERNYM Synset('make.v.03') make or cause to be or to become\n",
      "Synset('arouse.v.01') call forth (emotions, feelings, and responses)\n",
      "['arouse pity', 'raise a smile', 'evoke sympathy']\n",
      "\n",
      "HYPERNYM Synset('destroy.v.02') destroy completely; damage irreparably\n",
      "Synset('burn.v.01') destroy by fire\n",
      "['They burned the house and his diaries']\n",
      "\n",
      "HYPERNYM Synset('supply.v.01') give something useful or necessary to\n",
      "Synset('fuel.v.02') provide with fuel\n",
      "['Oil fires the furnace']\n"
     ]
    }
   ],
   "source": [
    "lemmas = {'fire'}\n",
    "annotate.search_for_event_meanings(lemmas)"
   ]
  },
  {
   "cell_type": "markdown",
   "metadata": {
    "collapsed": true
   },
   "source": [
    "## Inspect event meanings"
   ]
  },
  {
   "cell_type": "code",
   "execution_count": 6,
   "metadata": {
    "collapsed": false
   },
   "outputs": [
    {
     "name": "stdout",
     "output_type": "stream",
     "text": [
      "number of rows: 14\n",
      "variance: min(0), avg(3.64), max(11)\n"
     ]
    },
    {
     "data": {
      "text/html": [
       "<table>\n",
       "<tr><th style=\"text-align: right;\">  </th><th>wn_meanings                                              </th><th>wn_synsets                                                                                                                                                                           </th><th>domain    </th><th style=\"text-align: right;\">  variance</th><th>hyponyms                                                                                                                                                                                                                                                                                                                                                                                                                                                                                                                                                                                                                                                                                                                                                                                                                                                                                                                                                                                                                                                                                                                                                                                                                                                                                                                                                                                                                                                                                                                                                                                                                                                                                                                                                                                                                                                                                                                                                                                                                                                                                                                                                                                                                                                                                                                                                                                                                                                                             </th><th>lexical_expressions                                                                                                                  </th></tr>\n",
       "<tr><td style=\"text-align: right;\"> 0</td><td>{'release.n.01'}                                         </td><td>{(Synset('release.n.01'), 'ili-30-04073208-n')}                                                                                                                                      </td><td>business  </td><td style=\"text-align: right;\">         1</td><td>set()                                                                                                                                                                                                                                                                                                                                                                                                                                                                                                                                                                                                                                                                                                                                                                                                                                                                                                                                                                                                                                                                                                                                                                                                                                                                                                                                                                                                                                                                                                                                                                                                                                                                                                                                                                                                                                                                                                                                                                                                                                                                                                                                                                                                                                                                                                                                                                                                                                                                                </td><td>{'release'}                                                                                                                          </td></tr>\n",
       "<tr><td style=\"text-align: right;\"> 1</td><td>{'storm.n.01', 'storm.v.03'}                             </td><td>{(Synset('storm.v.03'), 'ili-30-02770170-v'), (Synset('storm.n.01'), 'ili-30-11462526-n')}                                                                                           </td><td>disasters </td><td style=\"text-align: right;\">         2</td><td>{(Synset('blizzard.n.01'), 'ili-30-11509570-n'), (Synset('northeaster.n.01'), 'ili-30-11462951-n'), (Synset('firestorm.n.01'), 'ili-30-11457944-n'), (Synset('rainstorm.n.01'), 'ili-30-11501737-n'), (Synset('hailstorm.n.01'), 'ili-30-11465688-n'), (Synset('ice_storm.n.01'), 'ili-30-11467650-n'), (Synset('windstorm.n.01'), 'ili-30-11527014-n'), (Synset('thunderstorm.n.01'), 'ili-30-11519253-n')}                                                                                                                                                                                                                                                                                                                                                                                                                                                                                                                                                                                                                                                                                                                                                                                                                                                                                                                                                                                                                                                                                                                                                                                                                                                                                                                                                                                                                                                                                                                                                                                                                                                                                                                                                                                                                                                                                                                                                                                                                                                                         </td><td>{'violent_storm', 'storm'}                                                                                                           </td></tr>\n",
       "<tr><td style=\"text-align: right;\"> 2</td><td>{'net_income.n.01', 'profit.v.02'}                       </td><td>{(Synset('net_income.n.01'), 'ili-30-13258362-n'), (Synset('profit.v.02'), 'ili-30-02278830-v')}                                                                                     </td><td>business  </td><td style=\"text-align: right;\">         8</td><td>{(Synset('dividend.n.01'), 'ili-30-13408023-n'), (Synset('markup.n.01'), 'ili-30-13303880-n'), (Synset('fast_buck.n.01'), 'ili-30-13260510-n'), (Synset('killing.n.03'), 'ili-30-13259797-n'), (Synset('accumulation.n.04'), 'ili-30-13366693-n'), (Synset('windfall_profit.n.01'), 'ili-30-13259630-n'), (Synset('turn_a_nice_dime.v.01'), 'ili-30-02279113-v'), (Synset('earning_per_share.n.01'), 'ili-30-13259481-n'), (Synset('gross_profit.n.01'), 'ili-30-13260762-n'), (Synset('line_one's_pockets.v.01'), 'ili-30-02278727-v'), (Synset('clean_up.v.02'), 'ili-30-02279315-v'), (Synset('filthy_lucre.n.01'), 'ili-30-13260645-n')}                                                                                                                                                                                                                                                                                                                                                                                                                                                                                                                                                                                                                                                                                                                                                                                                                                                                                                                                                                                                                                                                                                                                                                                                                                                                                                                                                                                                                                                                                                                                                                                                                                                                                                                                                                                                                                         </td><td>{'net_income', 'profit', 'earnings', 'turn_a_profit', 'net_profit', 'profits', 'lucre', 'net'}                                       </td></tr>\n",
       "<tr><td style=\"text-align: right;\"> 3</td><td>{'displace.v.03'}                                        </td><td>{(Synset('displace.v.03'), 'ili-30-02402825-v')}                                                                                                                                     </td><td>employment</td><td style=\"text-align: right;\">        11</td><td>{(Synset('pension_off.v.01'), 'ili-30-02380571-v'), (Synset('squeeze_out.v.01'), 'ili-30-02404076-v'), (Synset('clean_out.v.02'), 'ili-30-02403408-v'), (Synset('furlough.v.01'), 'ili-30-02403537-v'), (Synset('retire.v.06'), 'ili-30-02380251-v'), (Synset('dismiss.v.03'), 'ili-30-02465939-v')}                                                                                                                                                                                                                                                                                                                                                                                                                                                                                                                                                                                                                                                                                                                                                                                                                                                                                                                                                                                                                                                                                                                                                                                                                                                                                                                                                                                                                                                                                                                                                                                                                                                                                                                                                                                                                                                                                                                                                                                                                                                                                                                                                                                 </td><td>{'give_notice', 'terminate', 'fire', 'send_away', 'give_the_sack', 'displace', 'give_the_axe', 'dismiss', 'force_out', 'can', 'sack'}</td></tr>\n",
       "<tr><td style=\"text-align: right;\"> 4</td><td>{'sale.n.01'}                                            </td><td>{(Synset('sale.n.01'), 'ili-30-01114824-n')}                                                                                                                                         </td><td>business  </td><td style=\"text-align: right;\">         1</td><td>{(Synset('divestiture.n.02'), 'ili-30-01115017-n')}                                                                                                                                                                                                                                                                                                                                                                                                                                                                                                                                                                                                                                                                                                                                                                                                                                                                                                                                                                                                                                                                                                                                                                                                                                                                                                                                                                                                                                                                                                                                                                                                                                                                                                                                                                                                                                                                                                                                                                                                                                                                                                                                                                                                                                                                                                                                                                                                                                  </td><td>{'sale'}                                                                                                                             </td></tr>\n",
       "<tr><td style=\"text-align: right;\"> 5</td><td>set()                                                    </td><td>set()                                                                                                                                                                                </td><td>business  </td><td style=\"text-align: right;\">         0</td><td>set()                                                                                                                                                                                                                                                                                                                                                                                                                                                                                                                                                                                                                                                                                                                                                                                                                                                                                                                                                                                                                                                                                                                                                                                                                                                                                                                                                                                                                                                                                                                                                                                                                                                                                                                                                                                                                                                                                                                                                                                                                                                                                                                                                                                                                                                                                                                                                                                                                                                                                </td><td>set()                                                                                                                                </td></tr>\n",
       "<tr><td style=\"text-align: right;\"> 6</td><td>{'robbery.n.01', 'rob.v.01'}                             </td><td>{(Synset('rob.v.01'), 'ili-30-02321391-v'), (Synset('robbery.n.01'), 'ili-30-00781685-n')}                                                                                           </td><td>crime     </td><td style=\"text-align: right;\">         2</td><td>{(Synset('hold_up.v.04'), 'ili-30-02277448-v'), (Synset('dacoity.n.01'), 'ili-30-00782927-n'), (Synset('highjacking.n.01'), 'ili-30-00783199-n'), (Synset('armed_robbery.n.01'), 'ili-30-00781912-n'), (Synset('rolling.n.02'), 'ili-30-00783762-n'), (Synset('heist.n.01'), 'ili-30-00783063-n'), (Synset('pick.v.07'), 'ili-30-02321648-v'), (Synset('highway_robbery.n.02'), 'ili-30-00783419-n'), (Synset('caper.n.03'), 'ili-30-00782792-n')}                                                                                                                                                                                                                                                                                                                                                                                                                                                                                                                                                                                                                                                                                                                                                                                                                                                                                                                                                                                                                                                                                                                                                                                                                                                                                                                                                                                                                                                                                                                                                                                                                                                                                                                                                                                                                                                                                                                                                                                                                                   </td><td>{'robbery', 'rob'}                                                                                                                   </td></tr>\n",
       "<tr><td style=\"text-align: right;\"> 7</td><td>{'unify.v.01', 'amalgamation.n.01'}                      </td><td>{(Synset('unify.v.01'), 'ili-30-00367685-v'), (Synset('amalgamation.n.01'), 'ili-30-01238424-n')}                                                                                    </td><td>business  </td><td style=\"text-align: right;\">         6</td><td>{(Synset('coalesce.v.02'), 'ili-30-01461152-v'), (Synset('syncretize.v.02'), 'ili-30-00368522-v'), (Synset('consubstantiate.v.01'), 'ili-30-00243572-v'), (Synset('consolidate.v.01'), 'ili-30-00242580-v'), (Synset('converge.v.04'), 'ili-30-00368847-v'), (Synset('federate.v.01'), 'ili-30-00369442-v')}                                                                                                                                                                                                                                                                                                                                                                                                                                                                                                                                                                                                                                                                                                                                                                                                                                                                                                                                                                                                                                                                                                                                                                                                                                                                                                                                                                                                                                                                                                                                                                                                                                                                                                                                                                                                                                                                                                                                                                                                                                                                                                                                                                         </td><td>{'unify', 'merger', 'amalgamation', 'uniting', 'unite', 'merge'}                                                                     </td></tr>\n",
       "<tr><td style=\"text-align: right;\"> 8</td><td>{'hire.v.01'}                                            </td><td>{(Synset('hire.v.01'), 'ili-30-02409412-v')}                                                                                                                                         </td><td>employment</td><td style=\"text-align: right;\">         3</td><td>{(Synset('ship.v.02'), 'ili-30-02409838-v'), (Synset('rat.v.02'), 'ili-30-02413140-v'), (Synset('fill.v.06'), 'ili-30-02394081-v'), (Synset('subcontract.v.01'), 'ili-30-02461063-v'), (Synset('engage.v.04'), 'ili-30-02401399-v'), (Synset('featherbed.v.02'), 'ili-30-00751775-v'), (Synset('sign.v.04'), 'ili-30-02409941-v')}                                                                                                                                                                                                                                                                                                                                                                                                                                                                                                                                                                                                                                                                                                                                                                                                                                                                                                                                                                                                                                                                                                                                                                                                                                                                                                                                                                                                                                                                                                                                                                                                                                                                                                                                                                                                                                                                                                                                                                                                                                                                                                                                                   </td><td>{'employ', 'engage', 'hire'}                                                                                                         </td></tr>\n",
       "<tr><td style=\"text-align: right;\"> 9</td><td>{'vandalism.n.01'}                                       </td><td>{(Synset('vandalism.n.01'), 'ili-30-01249816-n')}                                                                                                                                    </td><td>crime     </td><td style=\"text-align: right;\">         3</td><td>set()                                                                                                                                                                                                                                                                                                                                                                                                                                                                                                                                                                                                                                                                                                                                                                                                                                                                                                                                                                                                                                                                                                                                                                                                                                                                                                                                                                                                                                                                                                                                                                                                                                                                                                                                                                                                                                                                                                                                                                                                                                                                                                                                                                                                                                                                                                                                                                                                                                                                                </td><td>{'hooliganism', 'vandalism', 'malicious_mischief'}                                                                                   </td></tr>\n",
       "<tr><td style=\"text-align: right;\">10</td><td>{'earthquake.n.01'}                                      </td><td>{(Synset('earthquake.n.01'), 'ili-30-07428954-n')}                                                                                                                                   </td><td>disasters </td><td style=\"text-align: right;\">         4</td><td>{(Synset('tremor.n.02'), 'ili-30-07429484-n'), (Synset('shock.n.05'), 'ili-30-07429276-n'), (Synset('seaquake.n.01'), 'ili-30-07429870-n')}                                                                                                                                                                                                                                                                                                                                                                                                                                                                                                                                                                                                                                                                                                                                                                                                                                                                                                                                                                                                                                                                                                                                                                                                                                                                                                                                                                                                                                                                                                                                                                                                                                                                                                                                                                                                                                                                                                                                                                                                                                                                                                                                                                                                                                                                                                                                          </td><td>{'earthquake', 'seism', 'temblor', 'quake'}                                                                                          </td></tr>\n",
       "<tr><td style=\"text-align: right;\">11</td><td>{'fire.n.01'}                                            </td><td>{(Synset('fire.n.01'), 'ili-30-07302836-n')}                                                                                                                                         </td><td>disasters </td><td style=\"text-align: right;\">         1</td><td>{(Synset('conflagration.n.01'), 'ili-30-07303697-n'), (Synset('campfire.n.01'), 'ili-30-07303585-n'), (Synset('smudge.n.01'), 'ili-30-07304266-n'), (Synset('brush_fire.n.01'), 'ili-30-07303466-n'), (Synset('forest_fire.n.01'), 'ili-30-07303839-n'), (Synset('smoulder.n.01'), 'ili-30-07304096-n'), (Synset('bonfire.n.01'), 'ili-30-07303335-n'), (Synset('grassfire.n.01'), 'ili-30-07303988-n'), (Synset('backfire.n.03'), 'ili-30-07303153-n')}                                                                                                                                                                                                                                                                                                                                                                                                                                                                                                                                                                                                                                                                                                                                                                                                                                                                                                                                                                                                                                                                                                                                                                                                                                                                                                                                                                                                                                                                                                                                                                                                                                                                                                                                                                                                                                                                                                                                                                                                                             </td><td>{'fire'}                                                                                                                             </td></tr>\n",
       "<tr><td style=\"text-align: right;\">12</td><td>{'killing.n.02', 'kill.v.01'}                            </td><td>{(Synset('killing.n.02'), 'ili-30-00219012-n'), (Synset('kill.v.01'), 'ili-30-01323958-v')}                                                                                          </td><td>crime     </td><td style=\"text-align: right;\">         3</td><td>{(Synset('slaughter.n.01'), 'ili-30-00223854-n'), (Synset('zap.v.02'), 'ili-30-01325288-v'), (Synset('sacrifice.v.02'), 'ili-30-01326093-v'), (Synset('sacrifice.n.04'), 'ili-30-00227595-n'), (Synset('overlie.v.02'), 'ili-30-01326890-v'), (Synset('massacre.v.01'), 'ili-30-00479176-v'), (Synset('stone.v.01'), 'ili-30-01323518-v'), (Synset('dispatch.v.05'), 'ili-30-01325128-v'), (Synset('death.n.08'), 'ili-30-00219575-n'), (Synset('erase.v.01'), 'ili-30-00479391-v'), (Synset('execute.v.01'), 'ili-30-02483267-v'), (Synset('poison.v.02'), 'ili-30-01323338-v'), (Synset('martyr.v.01'), 'ili-30-01605021-v'), (Synset('butcher.v.01'), 'ili-30-01322854-v'), (Synset('decimate.v.01'), 'ili-30-00471058-v'), (Synset('dismember.v.01'), 'ili-30-01572224-v'), (Synset('poison.v.04'), 'ili-30-01323793-v'), (Synset('assassinate.v.01'), 'ili-30-02483000-v'), (Synset('lynch.v.01'), 'ili-30-02484397-v'), (Synset('electrocution.n.02'), 'ili-30-00228078-n'), (Synset('saber.v.02'), 'ili-30-01326730-v'), (Synset('neutralize.v.04'), 'ili-30-01327301-v'), (Synset('deathblow.n.01'), 'ili-30-00219463-n'), (Synset('commit_suicide.v.01'), 'ili-30-01324996-v'), (Synset('homicide.n.01'), 'ili-30-00220023-n'), (Synset('tomahawk.v.02'), 'ili-30-01326424-v'), (Synset('take_off.v.08'), 'ili-30-01326323-v'), (Synset('suffocation.n.01'), 'ili-30-00225593-n'), (Synset('poisoning.n.02'), 'ili-30-00224738-n'), (Synset('eliminate.v.03'), 'ili-30-00470701-v'), (Synset('shed_blood.v.01'), 'ili-30-01616151-v'), (Synset('destroy.v.04'), 'ili-30-01326528-v'), (Synset('draw.v.23'), 'ili-30-02483564-v'), (Synset('brain.v.02'), 'ili-30-01327020-v'), (Synset('smother.v.02'), 'ili-30-01569181-v'), (Synset('decapitation.n.02'), 'ili-30-00228181-n'), (Synset('shoot.v.02'), 'ili-30-02484570-v'), (Synset('strangle.v.01'), 'ili-30-01570935-v'), (Synset('genocide.n.01'), 'ili-30-01245159-n'), (Synset('dispatch.n.04'), 'ili-30-00222248-n'), (Synset('suicide.n.01'), 'ili-30-00222485-n'), (Synset('put_away.v.05'), 'ili-30-01327133-v'), (Synset('exterminate.v.01'), 'ili-30-01327582-v'), (Synset('fell.n.03'), 'ili-30-00222376-n'), (Synset('euthanasia.n.01'), 'ili-30-00219856-n'), (Synset('decapitate.v.01'), 'ili-30-01571354-v'), (Synset('drown.v.04'), 'ili-30-00479060-v'), (Synset('impale.v.02'), 'ili-30-01572003-v'), (Synset('electrocute.v.02'), 'ili-30-02484957-v'), (Synset('murder.v.01'), 'ili-30-02482425-v')}</td><td>{'kill', 'putting_to_death', 'killing'}                                                                                              </td></tr>\n",
       "<tr><td style=\"text-align: right;\">13</td><td>{'deluge.v.01', 'flood.v.04', 'flood.v.02', 'flood.n.01'}</td><td>{(Synset('flood.v.04'), 'ili-30-00452220-v'), (Synset('flood.n.01'), 'ili-30-11454591-n'), (Synset('flood.v.02'), 'ili-30-00217152-v'), (Synset('deluge.v.01'), 'ili-30-01524523-v')}</td><td>disasters </td><td style=\"text-align: right;\">         6</td><td>{(Synset('swamp.v.01'), 'ili-30-02771564-v'), (Synset('debacle.n.02'), 'ili-30-11454953-n'), (Synset('flash_flood.n.01'), 'ili-30-11455092-n'), (Synset('inundate.v.02'), 'ili-30-00217700-v'), (Synset('noah's_flood.n.01'), 'ili-30-11455386-n'), (Synset('flow.v.06'), 'ili-30-00217427-v')}                                                                                                                                                                                                                                                                                                                                                                                                                                                                                                                                                                                                                                                                                                                                                                                                                                                                                                                                                                                                                                                                                                                                                                                                                                                                                                                                                                                                                                                                                                                                                                                                                                                                                                                                                                                                                                                                                                                                                                                                                                                                                                                                                                                      </td><td>{'swamp', 'flood', 'inundation', 'alluvion', 'inundate', 'deluge'}                                                                   </td></tr>\n",
       "</table>"
      ],
      "text/plain": [
       "<IPython.core.display.HTML object>"
      ]
     },
     "metadata": {},
     "output_type": "display_data"
    }
   ],
   "source": [
    "main_dict = ev_meaning_objs\n",
    "keys = ev_meaning_objs.keys()\n",
    "headers = ['wn_meanings', 'wn_synsets', 'domain',\n",
    "           'variance', 'hyponyms',\n",
    "           'lexical_expressions']\n",
    "\n",
    "table = utils.show_me(main_dict, keys, headers, meta={'variance'})\n",
    "display(HTML(table))"
   ]
  },
  {
   "cell_type": "markdown",
   "metadata": {},
   "source": [
    "## Inspect lexical expression"
   ]
  },
  {
   "cell_type": "code",
   "execution_count": 7,
   "metadata": {
    "collapsed": false,
    "scrolled": false
   },
   "outputs": [
    {
     "name": "stdout",
     "output_type": "stream",
     "text": [
      "number of rows: 16\n",
      "wn_ambiguity: min(0), avg(6.69), max(22)\n",
      "event_ambiguity: min(1), avg(1.06), max(2)\n"
     ]
    },
    {
     "data": {
      "text/html": [
       "<table>\n",
       "<tr><th style=\"text-align: right;\">  </th><th>lexical_expression  </th><th style=\"text-align: right;\">  wn_ambiguity</th><th style=\"text-align: right;\">  event_ambiguity</th><th>event_instance_ids                                                    </th><th>event_instance_defs                                                                                                                                                                                  </th></tr>\n",
       "<tr><td style=\"text-align: right;\"> 0</td><td>earthquake          </td><td style=\"text-align: right;\">             2</td><td style=\"text-align: right;\">                1</td><td>{frozenset({'earthquake.n.01'})}                                      </td><td>shaking and vibration at the surface of the earth resulting from underground movement along a fault plane of from volcanic activity                                                                  </td></tr>\n",
       "<tr><td style=\"text-align: right;\"> 1</td><td>storm               </td><td style=\"text-align: right;\">             8</td><td style=\"text-align: right;\">                1</td><td>{frozenset({'storm.n.01', 'storm.v.03'})}                             </td><td>rain, hail, or snow hard and be very windy, often with thunder or lightning;a violent weather condition with winds 64-72 knots (11 on the Beaufort scale) and precipitation and thunder and lightning</td></tr>\n",
       "<tr><td style=\"text-align: right;\"> 2</td><td>fire                </td><td style=\"text-align: right;\">            18</td><td style=\"text-align: right;\">                2</td><td>{frozenset({'displace.v.03'}), frozenset({'fire.n.01'})}              </td><td>the event of something burning (often destructive) AND terminate the employment of; discharge from an office or position                                                                             </td></tr>\n",
       "<tr><td style=\"text-align: right;\"> 3</td><td>release             </td><td style=\"text-align: right;\">            22</td><td style=\"text-align: right;\">                1</td><td>{frozenset({'release.n.01'})}                                         </td><td>merchandise issued for sale or public showing (especially a record or film)                                                                                                                          </td></tr>\n",
       "<tr><td style=\"text-align: right;\"> 4</td><td>profit              </td><td style=\"text-align: right;\">             4</td><td style=\"text-align: right;\">                1</td><td>{frozenset({'net_income.n.01', 'profit.v.02'})}                       </td><td>the excess of revenues over outlays in a given period of time (including depreciation and other non-cash expenses);make a profit; gain money or materially                                           </td></tr>\n",
       "<tr><td style=\"text-align: right;\"> 5</td><td>robbery             </td><td style=\"text-align: right;\">             2</td><td style=\"text-align: right;\">                1</td><td>{frozenset({'robbery.n.01', 'rob.v.01'})}                             </td><td>take something away by force or without the consent of the owner;larceny by threat of violence                                                                                                       </td></tr>\n",
       "<tr><td style=\"text-align: right;\"> 6</td><td>kill                </td><td style=\"text-align: right;\">            17</td><td style=\"text-align: right;\">                1</td><td>{frozenset({'killing.n.02', 'kill.v.01'})}                            </td><td>the act of terminating a life;cause to die; put to death, usually intentionally or knowingly                                                                                                         </td></tr>\n",
       "<tr><td style=\"text-align: right;\"> 7</td><td>merger              </td><td style=\"text-align: right;\">             2</td><td style=\"text-align: right;\">                1</td><td>{frozenset({'unify.v.01', 'amalgamation.n.01'})}                      </td><td>become one;the combination of two or more commercial companies                                                                                                                                       </td></tr>\n",
       "<tr><td style=\"text-align: right;\"> 8</td><td>sales               </td><td style=\"text-align: right;\">             6</td><td style=\"text-align: right;\">                1</td><td>{frozenset({'sale.n.01'})}                                            </td><td>a particular instance of selling                                                                                                                                                                     </td></tr>\n",
       "<tr><td style=\"text-align: right;\"> 9</td><td>flood               </td><td style=\"text-align: right;\">            10</td><td style=\"text-align: right;\">                1</td><td>{frozenset({'deluge.v.01', 'flood.v.04', 'flood.v.02', 'flood.n.01'})}</td><td>become filled to overflowing;the rising of a body of water and its overflowing onto normally dry land;cover with liquid, usually water;fill quickly beyond capacity; as with a liquid                </td></tr>\n",
       "<tr><td style=\"text-align: right;\">10</td><td>rob                 </td><td style=\"text-align: right;\">             2</td><td style=\"text-align: right;\">                1</td><td>{frozenset({'robbery.n.01', 'rob.v.01'})}                             </td><td>take something away by force or without the consent of the owner;larceny by threat of violence                                                                                                       </td></tr>\n",
       "<tr><td style=\"text-align: right;\">11</td><td>take-over           </td><td style=\"text-align: right;\">             0</td><td style=\"text-align: right;\">                1</td><td>{frozenset()}                                                         </td><td>                                                                                                                                                                                                     </td></tr>\n",
       "<tr><td style=\"text-align: right;\">12</td><td>flooding            </td><td style=\"text-align: right;\">             5</td><td style=\"text-align: right;\">                1</td><td>{frozenset({'deluge.v.01', 'flood.v.04', 'flood.v.02', 'flood.n.01'})}</td><td>become filled to overflowing;the rising of a body of water and its overflowing onto normally dry land;cover with liquid, usually water;fill quickly beyond capacity; as with a liquid                </td></tr>\n",
       "<tr><td style=\"text-align: right;\">13</td><td>merge               </td><td style=\"text-align: right;\">             3</td><td style=\"text-align: right;\">                1</td><td>{frozenset({'unify.v.01', 'amalgamation.n.01'})}                      </td><td>become one;the combination of two or more commercial companies                                                                                                                                       </td></tr>\n",
       "<tr><td style=\"text-align: right;\">14</td><td>hire                </td><td style=\"text-align: right;\">             5</td><td style=\"text-align: right;\">                1</td><td>{frozenset({'hire.v.01'})}                                            </td><td>engage or hire for work                                                                                                                                                                              </td></tr>\n",
       "<tr><td style=\"text-align: right;\">15</td><td>vandalism           </td><td style=\"text-align: right;\">             1</td><td style=\"text-align: right;\">                1</td><td>{frozenset({'vandalism.n.01'})}                                       </td><td>willful wanton and malicious destruction of the property of others                                                                                                                                   </td></tr>\n",
       "</table>"
      ],
      "text/plain": [
       "<IPython.core.display.HTML object>"
      ]
     },
     "metadata": {},
     "output_type": "display_data"
    }
   ],
   "source": [
    "main_dict = lex_expr_objs\n",
    "keys = lex_expr_objs.keys()\n",
    "headers = ['lexical_expression', 'wn_ambiguity', 'event_ambiguity', \n",
    "           'event_instance_ids', 'event_instance_defs']\n",
    "\n",
    "table = utils.show_me(main_dict, keys, headers, meta={'wn_ambiguity', 'event_ambiguity'})\n",
    "display(HTML(table))"
   ]
  }
 ],
 "metadata": {
  "anaconda-cloud": {},
  "kernelspec": {
   "display_name": "Python [conda root]",
   "language": "python",
   "name": "conda-root-py"
  },
  "language_info": {
   "codemirror_mode": {
    "name": "ipython",
    "version": 3
   },
   "file_extension": ".py",
   "mimetype": "text/x-python",
   "name": "python",
   "nbconvert_exporter": "python",
   "pygments_lexer": "ipython3",
   "version": "3.5.2"
  }
 },
 "nbformat": 4,
 "nbformat_minor": 1
}
